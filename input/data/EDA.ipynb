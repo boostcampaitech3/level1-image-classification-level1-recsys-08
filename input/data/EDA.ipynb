{
 "cells": [
  {
   "cell_type": "markdown",
   "id": "4ed90125",
   "metadata": {},
   "source": [
    "## Image Classification EDA"
   ]
  },
  {
   "cell_type": "markdown",
   "id": "3c081329",
   "metadata": {},
   "source": [
    "### import"
   ]
  },
  {
   "cell_type": "code",
   "execution_count": 1,
   "id": "afd14ee8",
   "metadata": {},
   "outputs": [
    {
     "name": "stdout",
     "output_type": "stream",
     "text": [
      "Requirement already satisfied: plotly in /Users/ly/.virtualenvs/ml/lib/python3.7/site-packages (5.6.0)\n",
      "Requirement already satisfied: statsmodels in /Users/ly/.virtualenvs/ml/lib/python3.7/site-packages (0.13.2)\n",
      "Requirement already satisfied: tenacity>=6.2.0 in /Users/ly/.virtualenvs/ml/lib/python3.7/site-packages (from plotly) (8.0.1)\n",
      "Requirement already satisfied: six in /Users/ly/.virtualenvs/ml/lib/python3.7/site-packages (from plotly) (1.16.0)\n",
      "Requirement already satisfied: pandas>=0.25 in /Users/ly/.virtualenvs/ml/lib/python3.7/site-packages (from statsmodels) (1.3.4)\n",
      "Requirement already satisfied: patsy>=0.5.2 in /Users/ly/.virtualenvs/ml/lib/python3.7/site-packages (from statsmodels) (0.5.2)\n",
      "Requirement already satisfied: packaging>=21.3 in /Users/ly/.virtualenvs/ml/lib/python3.7/site-packages (from statsmodels) (21.3)\n",
      "Requirement already satisfied: numpy>=1.17 in /Users/ly/.virtualenvs/ml/lib/python3.7/site-packages (from statsmodels) (1.21.4)\n",
      "Requirement already satisfied: scipy>=1.3 in /Users/ly/.virtualenvs/ml/lib/python3.7/site-packages (from statsmodels) (1.7.2)\n",
      "Requirement already satisfied: pyparsing!=3.0.5,>=2.0.2 in /Users/ly/.virtualenvs/ml/lib/python3.7/site-packages (from packaging>=21.3->statsmodels) (2.4.7)\n",
      "Requirement already satisfied: python-dateutil>=2.7.3 in /Users/ly/.virtualenvs/ml/lib/python3.7/site-packages (from pandas>=0.25->statsmodels) (2.8.2)\n",
      "Requirement already satisfied: pytz>=2017.3 in /Users/ly/.virtualenvs/ml/lib/python3.7/site-packages (from pandas>=0.25->statsmodels) (2021.3)\n",
      "\u001b[33mWARNING: You are using pip version 21.3.1; however, version 22.0.3 is available.\n",
      "You should consider upgrading via the '/Users/ly/.virtualenvs/ml/bin/python3 -m pip install --upgrade pip' command.\u001b[0m\n",
      "Requirement already satisfied: tqdm in /Users/ly/.virtualenvs/ml/lib/python3.7/site-packages (4.62.3)\n",
      "\u001b[33mWARNING: You are using pip version 21.3.1; however, version 22.0.3 is available.\n",
      "You should consider upgrading via the '/Users/ly/.virtualenvs/ml/bin/python3 -m pip install --upgrade pip' command.\u001b[0m\n"
     ]
    }
   ],
   "source": [
    "!pip install plotly statsmodels\n",
    "!pip install tqdm"
   ]
  },
  {
   "cell_type": "code",
   "execution_count": 2,
   "id": "a95318a5",
   "metadata": {},
   "outputs": [],
   "source": [
    "import os\n",
    "from tqdm import tqdm\n",
    "import numpy as np\n",
    "import pandas as pd\n",
    "import matplotlib.pyplot as plt\n",
    "from PIL import Image\n",
    "import plotly.express as px\n",
    "\n",
    "pd.set_option('mode.chained_assignment',  None)"
   ]
  },
  {
   "cell_type": "markdown",
   "id": "5b1dd7e7",
   "metadata": {},
   "source": [
    "### 변수 선언"
   ]
  },
  {
   "cell_type": "code",
   "execution_count": 3,
   "id": "1584987d",
   "metadata": {},
   "outputs": [],
   "source": [
    "data_dir = './train'"
   ]
  },
  {
   "cell_type": "markdown",
   "id": "9922007a",
   "metadata": {},
   "source": [
    "### pandas를 이용한 train.csv 분석"
   ]
  },
  {
   "cell_type": "code",
   "execution_count": 4,
   "id": "f5fce9c7",
   "metadata": {},
   "outputs": [],
   "source": [
    "train_info = pd.read_csv(f'{data_dir}/train.csv')\n",
    "train_info = train_info.drop('id', axis=1)"
   ]
  },
  {
   "cell_type": "markdown",
   "id": "3a99e8a0",
   "metadata": {},
   "source": [
    "#### 결측치 확인\n",
    "결측치가 없는 것을 확인할 수 있다."
   ]
  },
  {
   "cell_type": "code",
   "execution_count": 5,
   "id": "052f1a28",
   "metadata": {},
   "outputs": [
    {
     "data": {
      "text/plain": [
       "gender    0\n",
       "race      0\n",
       "age       0\n",
       "path      0\n",
       "dtype: int64"
      ]
     },
     "execution_count": 5,
     "metadata": {},
     "output_type": "execute_result"
    }
   ],
   "source": [
    "train_info.isnull().sum()"
   ]
  },
  {
   "cell_type": "markdown",
   "id": "04b58160",
   "metadata": {},
   "source": [
    "#### train.csv 파일 정보 확인\n",
    "gender, race, age, path 4가지 feature를 가지고 있으며, 총 2700개의 데이터가 있다."
   ]
  },
  {
   "cell_type": "code",
   "execution_count": 6,
   "id": "d17cd137",
   "metadata": {},
   "outputs": [
    {
     "name": "stdout",
     "output_type": "stream",
     "text": [
      "<class 'pandas.core.frame.DataFrame'>\n",
      "RangeIndex: 2700 entries, 0 to 2699\n",
      "Data columns (total 4 columns):\n",
      " #   Column  Non-Null Count  Dtype \n",
      "---  ------  --------------  ----- \n",
      " 0   gender  2700 non-null   object\n",
      " 1   race    2700 non-null   object\n",
      " 2   age     2700 non-null   int64 \n",
      " 3   path    2700 non-null   object\n",
      "dtypes: int64(1), object(3)\n",
      "memory usage: 84.5+ KB\n"
     ]
    }
   ],
   "source": [
    "train_info.info()"
   ]
  },
  {
   "cell_type": "markdown",
   "id": "38da6f07",
   "metadata": {},
   "source": [
    "gender - male/female 2가지 categorical한 값\n",
    "\n",
    "race - Asian으로 통일됨\n",
    "\n",
    "age - 18~60 사이의 자연수값\n",
    "\n",
    "path - row 데이터와 연관된 folder path"
   ]
  },
  {
   "cell_type": "code",
   "execution_count": 7,
   "id": "43f4c68c",
   "metadata": {},
   "outputs": [
    {
     "data": {
      "text/html": [
       "<div>\n",
       "<style scoped>\n",
       "    .dataframe tbody tr th:only-of-type {\n",
       "        vertical-align: middle;\n",
       "    }\n",
       "\n",
       "    .dataframe tbody tr th {\n",
       "        vertical-align: top;\n",
       "    }\n",
       "\n",
       "    .dataframe thead th {\n",
       "        text-align: right;\n",
       "    }\n",
       "</style>\n",
       "<table border=\"1\" class=\"dataframe\">\n",
       "  <thead>\n",
       "    <tr style=\"text-align: right;\">\n",
       "      <th></th>\n",
       "      <th>gender</th>\n",
       "      <th>race</th>\n",
       "      <th>age</th>\n",
       "      <th>path</th>\n",
       "    </tr>\n",
       "  </thead>\n",
       "  <tbody>\n",
       "    <tr>\n",
       "      <th>count</th>\n",
       "      <td>2700</td>\n",
       "      <td>2700</td>\n",
       "      <td>2700.000000</td>\n",
       "      <td>2700</td>\n",
       "    </tr>\n",
       "    <tr>\n",
       "      <th>unique</th>\n",
       "      <td>2</td>\n",
       "      <td>1</td>\n",
       "      <td>NaN</td>\n",
       "      <td>2700</td>\n",
       "    </tr>\n",
       "    <tr>\n",
       "      <th>top</th>\n",
       "      <td>female</td>\n",
       "      <td>Asian</td>\n",
       "      <td>NaN</td>\n",
       "      <td>000001_female_Asian_45</td>\n",
       "    </tr>\n",
       "    <tr>\n",
       "      <th>freq</th>\n",
       "      <td>1658</td>\n",
       "      <td>2700</td>\n",
       "      <td>NaN</td>\n",
       "      <td>1</td>\n",
       "    </tr>\n",
       "    <tr>\n",
       "      <th>mean</th>\n",
       "      <td>NaN</td>\n",
       "      <td>NaN</td>\n",
       "      <td>37.708148</td>\n",
       "      <td>NaN</td>\n",
       "    </tr>\n",
       "    <tr>\n",
       "      <th>std</th>\n",
       "      <td>NaN</td>\n",
       "      <td>NaN</td>\n",
       "      <td>16.985904</td>\n",
       "      <td>NaN</td>\n",
       "    </tr>\n",
       "    <tr>\n",
       "      <th>min</th>\n",
       "      <td>NaN</td>\n",
       "      <td>NaN</td>\n",
       "      <td>18.000000</td>\n",
       "      <td>NaN</td>\n",
       "    </tr>\n",
       "    <tr>\n",
       "      <th>25%</th>\n",
       "      <td>NaN</td>\n",
       "      <td>NaN</td>\n",
       "      <td>20.000000</td>\n",
       "      <td>NaN</td>\n",
       "    </tr>\n",
       "    <tr>\n",
       "      <th>50%</th>\n",
       "      <td>NaN</td>\n",
       "      <td>NaN</td>\n",
       "      <td>36.000000</td>\n",
       "      <td>NaN</td>\n",
       "    </tr>\n",
       "    <tr>\n",
       "      <th>75%</th>\n",
       "      <td>NaN</td>\n",
       "      <td>NaN</td>\n",
       "      <td>55.000000</td>\n",
       "      <td>NaN</td>\n",
       "    </tr>\n",
       "    <tr>\n",
       "      <th>max</th>\n",
       "      <td>NaN</td>\n",
       "      <td>NaN</td>\n",
       "      <td>60.000000</td>\n",
       "      <td>NaN</td>\n",
       "    </tr>\n",
       "  </tbody>\n",
       "</table>\n",
       "</div>"
      ],
      "text/plain": [
       "        gender   race          age                    path\n",
       "count     2700   2700  2700.000000                    2700\n",
       "unique       2      1          NaN                    2700\n",
       "top     female  Asian          NaN  000001_female_Asian_45\n",
       "freq      1658   2700          NaN                       1\n",
       "mean       NaN    NaN    37.708148                     NaN\n",
       "std        NaN    NaN    16.985904                     NaN\n",
       "min        NaN    NaN    18.000000                     NaN\n",
       "25%        NaN    NaN    20.000000                     NaN\n",
       "50%        NaN    NaN    36.000000                     NaN\n",
       "75%        NaN    NaN    55.000000                     NaN\n",
       "max        NaN    NaN    60.000000                     NaN"
      ]
     },
     "execution_count": 7,
     "metadata": {},
     "output_type": "execute_result"
    }
   ],
   "source": [
    "train_info.describe(include='all')"
   ]
  },
  {
   "cell_type": "code",
   "execution_count": 8,
   "id": "d1b7113f",
   "metadata": {},
   "outputs": [
    {
     "data": {
      "text/html": [
       "<div>\n",
       "<style scoped>\n",
       "    .dataframe tbody tr th:only-of-type {\n",
       "        vertical-align: middle;\n",
       "    }\n",
       "\n",
       "    .dataframe tbody tr th {\n",
       "        vertical-align: top;\n",
       "    }\n",
       "\n",
       "    .dataframe thead th {\n",
       "        text-align: right;\n",
       "    }\n",
       "</style>\n",
       "<table border=\"1\" class=\"dataframe\">\n",
       "  <thead>\n",
       "    <tr style=\"text-align: right;\">\n",
       "      <th></th>\n",
       "      <th>gender</th>\n",
       "      <th>race</th>\n",
       "      <th>age</th>\n",
       "      <th>path</th>\n",
       "    </tr>\n",
       "  </thead>\n",
       "  <tbody>\n",
       "    <tr>\n",
       "      <th>1179</th>\n",
       "      <td>female</td>\n",
       "      <td>Asian</td>\n",
       "      <td>20</td>\n",
       "      <td>003135_female_Asian_20</td>\n",
       "    </tr>\n",
       "    <tr>\n",
       "      <th>1111</th>\n",
       "      <td>female</td>\n",
       "      <td>Asian</td>\n",
       "      <td>20</td>\n",
       "      <td>003050_female_Asian_20</td>\n",
       "    </tr>\n",
       "    <tr>\n",
       "      <th>1241</th>\n",
       "      <td>female</td>\n",
       "      <td>Asian</td>\n",
       "      <td>20</td>\n",
       "      <td>003226_female_Asian_20</td>\n",
       "    </tr>\n",
       "    <tr>\n",
       "      <th>902</th>\n",
       "      <td>female</td>\n",
       "      <td>Asian</td>\n",
       "      <td>60</td>\n",
       "      <td>001656_female_Asian_60</td>\n",
       "    </tr>\n",
       "    <tr>\n",
       "      <th>596</th>\n",
       "      <td>male</td>\n",
       "      <td>Asian</td>\n",
       "      <td>19</td>\n",
       "      <td>001251_male_Asian_19</td>\n",
       "    </tr>\n",
       "    <tr>\n",
       "      <th>997</th>\n",
       "      <td>male</td>\n",
       "      <td>Asian</td>\n",
       "      <td>26</td>\n",
       "      <td>001792_male_Asian_26</td>\n",
       "    </tr>\n",
       "    <tr>\n",
       "      <th>769</th>\n",
       "      <td>female</td>\n",
       "      <td>Asian</td>\n",
       "      <td>56</td>\n",
       "      <td>001504_female_Asian_56</td>\n",
       "    </tr>\n",
       "    <tr>\n",
       "      <th>1648</th>\n",
       "      <td>female</td>\n",
       "      <td>Asian</td>\n",
       "      <td>50</td>\n",
       "      <td>003819_female_Asian_50</td>\n",
       "    </tr>\n",
       "    <tr>\n",
       "      <th>1596</th>\n",
       "      <td>female</td>\n",
       "      <td>Asian</td>\n",
       "      <td>52</td>\n",
       "      <td>003757_female_Asian_52</td>\n",
       "    </tr>\n",
       "    <tr>\n",
       "      <th>1387</th>\n",
       "      <td>female</td>\n",
       "      <td>Asian</td>\n",
       "      <td>38</td>\n",
       "      <td>003421_female_Asian_38</td>\n",
       "    </tr>\n",
       "  </tbody>\n",
       "</table>\n",
       "</div>"
      ],
      "text/plain": [
       "      gender   race  age                    path\n",
       "1179  female  Asian   20  003135_female_Asian_20\n",
       "1111  female  Asian   20  003050_female_Asian_20\n",
       "1241  female  Asian   20  003226_female_Asian_20\n",
       "902   female  Asian   60  001656_female_Asian_60\n",
       "596     male  Asian   19    001251_male_Asian_19\n",
       "997     male  Asian   26    001792_male_Asian_26\n",
       "769   female  Asian   56  001504_female_Asian_56\n",
       "1648  female  Asian   50  003819_female_Asian_50\n",
       "1596  female  Asian   52  003757_female_Asian_52\n",
       "1387  female  Asian   38  003421_female_Asian_38"
      ]
     },
     "execution_count": 8,
     "metadata": {},
     "output_type": "execute_result"
    }
   ],
   "source": [
    "train_info.sample(10)"
   ]
  },
  {
   "cell_type": "markdown",
   "id": "af8f89e0",
   "metadata": {},
   "source": [
    "### 데이터 전처리\n",
    "1개의 row를 7개로 분리하는 작업(폴더에 총 7가지 데이터가 있어 이를 분리하는 작업)\n",
    "\n",
    "mask_class: mask 착용상태(wear = 0, incorrect = 1, not wear = 2)에 따라 분리한 class"
   ]
  },
  {
   "cell_type": "code",
   "execution_count": null,
   "id": "706fedd0",
   "metadata": {},
   "outputs": [
    {
     "name": "stderr",
     "output_type": "stream",
     "text": [
      " 73%|████████████████████████████████▋            | 1962/2700 [00:32<00:13, 55.76it/s]"
     ]
    }
   ],
   "source": [
    "train_info['mask_class'] = 0\n",
    "train_info['image_path'] = ''\n",
    "color_info = pd.DataFrame()\n",
    "\n",
    "# train_info row 수\n",
    "data_size = len(train_info)\n",
    "\n",
    "for i in tqdm(range(data_size)):\n",
    "    # row folder path 변수 선언\n",
    "    folder_path = os.listdir(f\"{data_dir}/images/{train_info['path'][i]}\")\n",
    "    \n",
    "    for j in range(len(folder_path)):\n",
    "        filepath = folder_path[j]\n",
    "        filename = filepath.split('.')[0]\n",
    "        \n",
    "        # mask 착용여부 (0-wear, 1-incorrect, 2-not wear)\n",
    "        val = 0\n",
    "        \n",
    "        if filename == 'incorrect_mask': val = 1\n",
    "        elif filename == 'normal': val = 2\n",
    "        \n",
    "        # 이미지 경로 변수 선언\n",
    "        image_path = f\"images/{train_info['path'][i]}/{filepath}\"\n",
    "        \n",
    "        # 첫번째 이미지는 원래 dataframe row 데이터 수정\n",
    "        if j == 0: \n",
    "            train_info['mask_class'][i] = val\n",
    "            train_info['image_path'][i] = image_path\n",
    "        \n",
    "        # 나머지 이미지는 새로운 row 생성\n",
    "        else:\n",
    "            new_train_series = train_info.iloc[i].copy()\n",
    "            new_train_series['mask_class'] = val\n",
    "            new_train_series['image_path'] = image_path\n",
    "            train_info = train_info.append(new_train_series, ignore_index=True)\n",
    "            "
   ]
  },
  {
   "cell_type": "markdown",
   "id": "da595763",
   "metadata": {},
   "source": [
    "전처리 후 데이터의 개수가 2700에서 18900(2700*7)로 바뀐 것을 확인 가능"
   ]
  },
  {
   "cell_type": "code",
   "execution_count": null,
   "id": "1be84cc3",
   "metadata": {},
   "outputs": [],
   "source": [
    "len(train_info)"
   ]
  },
  {
   "cell_type": "markdown",
   "id": "0641a579",
   "metadata": {},
   "source": [
    "#### 기존 feature class화\n",
    "age_class: age값들을 0-29, 30-59, 60- 3개 구간으로 분리한 클래스\n",
    "\n",
    "gender_class: male은 0, female은 1로 분류한 이진 클래스\n",
    "\n",
    "class: age_class, gender_class, mask_class를 바탕으로 0~17 총 18개로 구분된 클래스"
   ]
  },
  {
   "cell_type": "code",
   "execution_count": null,
   "id": "48a80402",
   "metadata": {},
   "outputs": [],
   "source": [
    "# age class 설정\n",
    "def age2num(x):\n",
    "    '''\n",
    "    age값을 구간을 대표하는 값으로 변환하는 함수\n",
    "    input: x(Int)\n",
    "    output: 0[0-29 대표] or 1[30-59 대표] or 2[[60- 대표](Integer)\n",
    "    '''\n",
    "    if x >= 60: return 2 # [60, inf)\n",
    "    elif x >= 30: return 1 # [30, 60)\n",
    "    return 0 # [0, 30)\n",
    "\n",
    "train_info['age_class'] = train_info['age'].map(age2num)\n",
    "\n",
    "# gender class 설정(male=0, female=1)\n",
    "gender2cat = {'male': 0, 'female': 1}\n",
    "\n",
    "train_info['gender_class'] = train_info['gender'].map(gender2cat)\n",
    "\n",
    "# 전체 class 설정(0~17, 총 18개 클래스)\n",
    "train_info['class'] = train_info['mask_class'] * 6 \\\n",
    "                      + train_info['gender_class'] * 3 \\\n",
    "                      + train_info['age_class']\n",
    "\n",
    "train_info['age_class'] = train_info['age_class'].astype('category')\n",
    "train_info['gender_class'] = train_info['gender_class'].astype('category')\n",
    "train_info['mask_class'] = train_info['mask_class'].astype('category')\n",
    "train_info['class'] = train_info['class'].astype('category')\n",
    "\n",
    "train_info.info()"
   ]
  },
  {
   "cell_type": "markdown",
   "id": "69530117",
   "metadata": {},
   "source": [
    "### 데이터 분석"
   ]
  },
  {
   "cell_type": "markdown",
   "id": "262cbaa6",
   "metadata": {},
   "source": [
    "#### gender 분석\n",
    "female data가 male data에 비해 1.5배 많은 것을 확인 가능"
   ]
  },
  {
   "cell_type": "code",
   "execution_count": null,
   "id": "8577165f",
   "metadata": {
    "scrolled": false
   },
   "outputs": [],
   "source": [
    "gender_cnt = train_info['gender'].value_counts()\n",
    "print(gender_cnt)\n",
    "\n",
    "fig, ax = plt.subplots(1, 1, figsize=(7, 7))\n",
    "ax.pie(gender_cnt, \n",
    "       labels=['female', 'male'], \n",
    "       autopct='%1.1f%%',\n",
    "       colors=['#FF6692', '#B6E880'])\n",
    "plt.show()"
   ]
  },
  {
   "cell_type": "markdown",
   "id": "4562ffe5",
   "metadata": {},
   "source": [
    "#### race 분석\n",
    "Asian 값 하나만이 존재했다."
   ]
  },
  {
   "cell_type": "code",
   "execution_count": null,
   "id": "327e48a6",
   "metadata": {},
   "outputs": [],
   "source": [
    "len(train_info['race'].unique())"
   ]
  },
  {
   "cell_type": "markdown",
   "id": "c049df79",
   "metadata": {},
   "source": [
    "#### age 분석\n",
    "(0-29, 30-59, 60-) 3가지 구간으로 분리했다.\n",
    "\n",
    "60- 구간 데이터의 비율이 적은 것을 확인 가능했다."
   ]
  },
  {
   "cell_type": "code",
   "execution_count": null,
   "id": "a138c68c",
   "metadata": {},
   "outputs": [],
   "source": [
    "age_cnt = train_info['age_class'].value_counts()\n",
    "print(age_cnt)\n",
    "\n",
    "fig, ax = plt.subplots(1, 1, figsize=(7, 7))\n",
    "ax.pie(age_cnt, \n",
    "       labels=['0-29', '30-59', '60-'], \n",
    "       autopct='%1.1f%%',\n",
    "       colors=['#FF6692', '#B6E880', '#FF97FF'])\n",
    "plt.show()"
   ]
  },
  {
   "cell_type": "markdown",
   "id": "2e54c08c",
   "metadata": {},
   "source": [
    "#### mask_class 분석\n",
    "wear(0), incorrect(1), not wear(2)로 구분해 분석했다.\n",
    "\n",
    "wear 상태가 전체 데이터의 70%, 나머지는 약 14%씩을 차지했다."
   ]
  },
  {
   "cell_type": "code",
   "execution_count": null,
   "id": "76c8ec2d",
   "metadata": {},
   "outputs": [],
   "source": [
    "mask_cnt = train_info['mask_class'].value_counts()\n",
    "print(mask_cnt)\n",
    "\n",
    "fig, ax = plt.subplots(1, 1, figsize=(7, 7))\n",
    "ax.pie(mask_cnt, \n",
    "       labels=['wear', 'incorrect', 'not wear'], \n",
    "       autopct='%1.1f%%',\n",
    "       colors=['#FF6692', '#B6E880', '#FF97FF'])\n",
    "plt.show()"
   ]
  },
  {
   "cell_type": "markdown",
   "id": "8e97e61a",
   "metadata": {},
   "source": [
    "####  class 분석\n",
    "0~17 총 18개의 클래스별 데이터 개수를 분석했다.\n",
    "불균형이 눈에 띄었다.\n",
    "\n",
    "red line plot은 클래스 데이터 개수 평균이다."
   ]
  },
  {
   "cell_type": "code",
   "execution_count": null,
   "id": "2199adf2",
   "metadata": {},
   "outputs": [],
   "source": [
    "class_cnt = train_info['class'].value_counts().sort_index()\n",
    "print(class_cnt)\n",
    "\n",
    "fig, ax = plt.subplots(1, figsize=(8, 6))\n",
    "ax.bar(class_cnt.index, class_cnt.values, color=['C0','C1','C2','C3','C4','C5','C6','C7','C8','C9','r','g','b','c','m','y','k','lime'])\n",
    "ax.plot(range(-5, 19), [18900/18]*24, color='r')\n",
    "ax.set_xticks(range(0,18))\n",
    "plt.xlim([-1, 18])\n",
    "plt.show()"
   ]
  },
  {
   "cell_type": "code",
   "execution_count": null,
   "id": "9e7dee77",
   "metadata": {},
   "outputs": [],
   "source": [
    "train_info = train_info.sort_values(by=['class'], axis=0)\n",
    "\n",
    "fig = px.histogram(train_info, \n",
    "                 x='age',\n",
    "                 y='gender',\n",
    "                 color_discrete_sequence=px.colors.qualitative.Light24,\n",
    "                 color=\"class\",\n",
    "                 facet_col=\"age_class\",\n",
    ")\n",
    "\n",
    "fig.show()"
   ]
  },
  {
   "cell_type": "code",
   "execution_count": null,
   "id": "40d1b011",
   "metadata": {},
   "outputs": [],
   "source": [
    "fig = px.scatter_matrix(train_info, \n",
    "                 dimensions=['age','gender_class'],\n",
    "                 color='class',\n",
    ")\n",
    "\n",
    "fig.show()"
   ]
  },
  {
   "cell_type": "markdown",
   "id": "5bca329d",
   "metadata": {},
   "source": [
    "### image 확인해보기"
   ]
  },
  {
   "cell_type": "markdown",
   "id": "25173046",
   "metadata": {},
   "source": [
    "#### 폴더별 이미지 확인해보기\n",
    "N개의 폴더 내에 있는 데이터들을 확인해보았다.\n",
    "\n",
    "대부분 구도가 비슷했지만, 이미지마다 명도나 얼굴 각도에 차이가 있었다."
   ]
  },
  {
   "cell_type": "code",
   "execution_count": null,
   "id": "97350265",
   "metadata": {},
   "outputs": [],
   "source": [
    "N = 5\n",
    "image_by_mask_status = np.zeros((3, 3, 512, 384))\n",
    "class2text = {0: 'wear', 1:'incorrect', 2:'not wear'}\n",
    "\n",
    "fig, ax = plt.subplots(N, 7, figsize=(5*3, N*3))\n",
    "path_unique = train_info['path'].unique()\n",
    "idxs = np.random.choice(len(path_unique), N)\n",
    "path_list = path_unique[idxs]\n",
    "\n",
    "for idx in range(N):\n",
    "    path = path_list[idx]\n",
    "    image_list = train_info.loc[train_info['path']==path]\n",
    "    for col in range(len(image_list)):\n",
    "        image_data = image_list.iloc[col]\n",
    "        image_class = image_data['mask_class']\n",
    "        image_path = f\"{data_dir}/{image_data['image_path']}\"\n",
    "        image = plt.imread(image_path)\n",
    "        \n",
    "        image_by_mask_status[image_class] = image_by_mask_status[image_class] \\\n",
    "                                            + image.transpose((2, 0, 1))\n",
    "        ax[idx][col].set_title(f'{class2text[image_class]}-{len(image[0])}*{len(image)}')\n",
    "        ax[idx][col].imshow(image)\n",
    "        ax[idx][col].axis('off')\n",
    "\n",
    "plt.tight_layout()"
   ]
  },
  {
   "cell_type": "markdown",
   "id": "d9ff443a",
   "metadata": {},
   "source": [
    "출력한 이미지 데이터에서 mask class에 따른 rgb값 통계를 비교해보았다."
   ]
  },
  {
   "cell_type": "code",
   "execution_count": null,
   "id": "133ac6e8",
   "metadata": {},
   "outputs": [],
   "source": [
    "image_by_mask_status[0] = image_by_mask_status[0] / 5\n",
    "image_by_mask_status = image_by_mask_status / N\n",
    "image_by_mask_status = image_by_mask_status.transpose((1,0,2,3)).reshape(3, 3, -1)"
   ]
  },
  {
   "cell_type": "markdown",
   "id": "c00b6b10",
   "metadata": {},
   "source": [
    "Red channel 데이터 비교"
   ]
  },
  {
   "cell_type": "code",
   "execution_count": null,
   "id": "6c339752",
   "metadata": {},
   "outputs": [],
   "source": [
    "r_df = pd.DataFrame(image_by_mask_status[0].transpose(), columns = ['wear', 'incorrect', 'not wear'])\n",
    "r_df.describe()"
   ]
  },
  {
   "cell_type": "markdown",
   "id": "11ea53ad",
   "metadata": {},
   "source": [
    "Green channel 데이터 비교"
   ]
  },
  {
   "cell_type": "code",
   "execution_count": null,
   "id": "1cce12d2",
   "metadata": {},
   "outputs": [],
   "source": [
    "g_df = pd.DataFrame(image_by_mask_status[1].transpose(), columns = ['wear', 'incorrect', 'not wear'])\n",
    "g_df.describe()"
   ]
  },
  {
   "cell_type": "markdown",
   "id": "b1e52bdf",
   "metadata": {},
   "source": [
    "Blue channel 데이터 비교"
   ]
  },
  {
   "cell_type": "code",
   "execution_count": null,
   "id": "00065722",
   "metadata": {
    "scrolled": false
   },
   "outputs": [],
   "source": [
    "b_df = pd.DataFrame(image_by_mask_status[2].transpose(), columns = ['wear', 'incorrect', 'not wear'])\n",
    "b_df.describe()"
   ]
  }
 ],
 "metadata": {
  "kernelspec": {
   "display_name": "Python 3 (ipykernel)",
   "language": "python",
   "name": "python3"
  },
  "language_info": {
   "codemirror_mode": {
    "name": "ipython",
    "version": 3
   },
   "file_extension": ".py",
   "mimetype": "text/x-python",
   "name": "python",
   "nbconvert_exporter": "python",
   "pygments_lexer": "ipython3",
   "version": "3.7.12"
  }
 },
 "nbformat": 4,
 "nbformat_minor": 5
}
