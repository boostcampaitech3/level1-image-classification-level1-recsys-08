{
  "cells": [
    {
      "cell_type": "code",
      "source": [
        "# 초기에 cv2, seaborn, timm 없었음\n",
        "#!apt-get -y install libgl1-mesa-glx\n",
        "#!pip install seaborn"
      ],
      "metadata": {
        "id": "bSdmsPgOEwK2"
      },
      "execution_count": null,
      "outputs": []
    },
    {
      "cell_type": "code",
      "execution_count": 86,
      "metadata": {
        "colab": {
          "base_uri": "https://localhost:8080/"
        },
        "id": "lIYdn1woOS1n",
        "outputId": "e199c05b-6edc-489d-b0da-2101f186bddc"
      },
      "outputs": [
        {
          "output_type": "stream",
          "name": "stdout",
          "text": [
            "--2022-02-28 06:37:01--  https://aistages-prod-server-public.s3.amazonaws.com/app/Competitions/000102/data/train.tar.gz\n",
            "Resolving aistages-prod-server-public.s3.amazonaws.com (aistages-prod-server-public.s3.amazonaws.com)... 52.218.242.147\n",
            "Connecting to aistages-prod-server-public.s3.amazonaws.com (aistages-prod-server-public.s3.amazonaws.com)|52.218.242.147|:443... connected.\n",
            "HTTP request sent, awaiting response... 200 OK\n",
            "Length: 750259380 (716M) [application/x-tar]\n",
            "Saving to: ‘train.tar.gz’\n",
            "\n",
            "train.tar.gz        100%[===================>] 715.50M  35.4MB/s    in 21s     \n",
            "\n",
            "2022-02-28 06:37:22 (33.9 MB/s) - ‘train.tar.gz’ saved [750259380/750259380]\n",
            "\n",
            "Collecting timm\n",
            "  Downloading timm-0.5.4-py3-none-any.whl (431 kB)\n",
            "\u001b[K     |████████████████████████████████| 431 kB 5.2 MB/s \n",
            "\u001b[?25hRequirement already satisfied: torchvision in /usr/local/lib/python3.7/dist-packages (from timm) (0.11.1+cu111)\n",
            "Requirement already satisfied: torch>=1.4 in /usr/local/lib/python3.7/dist-packages (from timm) (1.10.0+cu111)\n",
            "Requirement already satisfied: typing-extensions in /usr/local/lib/python3.7/dist-packages (from torch>=1.4->timm) (3.10.0.2)\n",
            "Requirement already satisfied: pillow!=8.3.0,>=5.3.0 in /usr/local/lib/python3.7/dist-packages (from torchvision->timm) (7.1.2)\n",
            "Requirement already satisfied: numpy in /usr/local/lib/python3.7/dist-packages (from torchvision->timm) (1.21.5)\n",
            "Installing collected packages: timm\n",
            "Successfully installed timm-0.5.4\n"
          ]
        }
      ],
      "source": [
        "# 대회 데이터 다운로드 후, 'input/data'경로에 압축해제\n",
        "!wget https://aistages-prod-server-public.s3.amazonaws.com/app/Competitions/000102/data/train.tar.gz && mkdir -p input/data && tar -zxf train.tar.gz -C input/data\n",
        "\n",
        "# 대회 데이터 경로 내 '._' 파일 삭제\n",
        "!cd input/data && find . -name '._*' -type f -delete\n",
        "\n",
        "# timm 라이브러리 설치 \n",
        "!pip install timm"
      ]
    },
    {
      "cell_type": "code",
      "source": [
        "# 경로를 찾거나 데이터프레임을 다룰때 사용\n",
        "import os\n",
        "import pandas as pd\n",
        "\n",
        "# 시각화 그래프를 그릴때 사용\n",
        "import seaborn as sns\n",
        "import matplotlib.pyplot as plt\n",
        "\n",
        "# 이미지 및 데이터를 다룰때 사용\n",
        "import cv2\n",
        "from PIL import Image\n",
        "from torch.utils.data import Dataset, DataLoader\n",
        "\n",
        "#모델 생성에 사용\n",
        "import math\n",
        "import timm\n",
        "import torch\n",
        "from torch import nn\n",
        "from torch.optim.lr_scheduler import _LRScheduler\n",
        "\n",
        "\n",
        "# etc\n",
        "import tqdm\n",
        "import random\n",
        "\n",
        "import warnings\n",
        "import numpy as np\n",
        "from typing import List\n",
        "\n",
        "warnings.simplefilter(action=\"ignore\", category=FutureWarning)\n",
        "\n",
        "train_path = 'input/data/train/'\n",
        "test_path = 'input/data/eval/'\n",
        "train_img_path = train_path + 'images/'\n",
        "test_img_path = test_path + 'images/'"
      ],
      "metadata": {
        "id": "UTlZAugTC-p-"
      },
      "execution_count": 89,
      "outputs": []
    },
    {
      "cell_type": "code",
      "source": [
        "train_df = pd.read_csv(train_path+'train.csv')\n",
        "test_df = pd.read_csv(test_path+'info.csv')"
      ],
      "metadata": {
        "id": "40iN1_PXDC6M"
      },
      "execution_count": 90,
      "outputs": []
    },
    {
      "cell_type": "code",
      "source": [
        "%%time\n",
        "# 학습 데이터에 이미지 경로(img_path), 마스크 상태(state), 레이블링(label) 추가\n",
        "def add_info(df: pd.DataFrame, path: str) -> pd.DataFrame:\n",
        "    result = []\n",
        "    for row in df.iloc:\n",
        "        full_path = path + row.path\n",
        "        for file in os.listdir(full_path):\n",
        "            temp = {'path':row.path,\n",
        "                    'fullpath':full_path + '/' + file,\n",
        "                    'state':'mask' if file.startswith('mask') else file.split('.')[0]}\n",
        "            temp['label'] = (['mask','incorrect_mask','normal'].index(temp['state']) * 6) + ((0 if 'female' == 'male' else 1) * 3) + min(2, row.age // 30)\n",
        "            result.append(temp)\n",
        "    return pd.merge(df, pd.DataFrame(result))\n",
        "\n",
        "train_df = add_info(train_df, train_img_path)\n",
        "train_df"
      ],
      "metadata": {
        "id": "piut4yJ3DC1G",
        "outputId": "871f565c-47af-438f-8bad-94b8de8c41e3",
        "colab": {
          "base_uri": "https://localhost:8080/"
        }
      },
      "execution_count": 91,
      "outputs": [
        {
          "output_type": "stream",
          "name": "stdout",
          "text": [
            "CPU times: user 1.75 s, sys: 173 ms, total: 1.92 s\n",
            "Wall time: 5.25 s\n"
          ]
        }
      ]
    },
    {
      "cell_type": "code",
      "source": [
        "# 출처: https://pytorch.org/docs/stable/data.html?highlight=dataset#torch.utils.data.Dataset\n",
        "class ImgDataset(Dataset):\n",
        "    def __init__(self, df, transforms=None):\n",
        "        super().__init__()\n",
        "        self.df = df.reset_index(drop=True).copy()\n",
        "        self.transforms = transforms\n",
        "    \n",
        "    def __len__(self):\n",
        "        return len(self.df)\n",
        "    \n",
        "    def __getitem__(self, index: int):\n",
        "        # RGB 변환\n",
        "        img = cv2.cvtColor(cv2.imread(self.df.fullpath[index]), cv2.COLOR_BGR2RGB)\n",
        "        \n",
        "        if self.transforms:\n",
        "            img = self.transforms(image=img)['image']\n",
        "        \n",
        "        return img, self.df.label[index]\n",
        "\n",
        "\n",
        "# 출처: https://pytorch.org/docs/stable/data.html?highlight=dataloader#torch.utils.data.DataLoader\n",
        "def Dataloader(df):\n",
        "    \n",
        "    train_ds = ImgDataset(train_)\n",
        "    valid_ds = ImgDataset(valid_)\n",
        "    \n",
        "    train_loader = torch.utils.data.DataLoader(\n",
        "        train_ds,\n",
        "        batch_size=CFG['batch_size'],\n",
        "        num_workers=CFG['num_workers'],\n",
        "        pin_memory=True,\n",
        "        shuffle=True,  \n",
        "    )\n",
        "\n",
        "    val_loader = torch.utils.data.DataLoader(\n",
        "        valid_ds, \n",
        "        batch_size=CFG['batch_size'],\n",
        "        num_workers=CFG['num_workers'],\n",
        "        pin_memory=True,\n",
        "        shuffle=False,\n",
        "    )\n",
        "\n",
        "    return train_loader, val_loader"
      ],
      "metadata": {
        "id": "4lVxWeLEDCwM"
      },
      "execution_count": 92,
      "outputs": []
    },
    {
      "cell_type": "code",
      "source": [
        "# Custom CosineAnnealingWarmRestarts (warm up start, max 감소 추가)\n",
        "# 출처: https://gaussian37.github.io/dl-pytorch-lr_scheduler/#custom-cosineannealingwarmrestarts-1\n",
        "class CosineAnnealingWarmUpRestarts(_LRScheduler):\n",
        "    def __init__(self, optimizer, T_0, T_mult=1, eta_max=0.1, T_up=0, gamma=1., last_epoch=-1):\n",
        "        if T_0 <= 0 or not isinstance(T_0, int):\n",
        "            raise ValueError(\"Expected positive integer T_0, but got {}\".format(T_0))\n",
        "        if T_mult < 1 or not isinstance(T_mult, int):\n",
        "            raise ValueError(\"Expected integer T_mult >= 1, but got {}\".format(T_mult))\n",
        "        if T_up < 0 or not isinstance(T_up, int):\n",
        "            raise ValueError(\"Expected positive integer T_up, but got {}\".format(T_up))\n",
        "        self.T_0 = T_0\n",
        "        self.T_mult = T_mult\n",
        "        self.base_eta_max = eta_max\n",
        "        self.eta_max = eta_max\n",
        "        self.T_up = T_up\n",
        "        self.T_i = T_0\n",
        "        self.gamma = gamma\n",
        "        self.cycle = 0\n",
        "        self.T_cur = last_epoch\n",
        "        super(CosineAnnealingWarmUpRestarts, self).__init__(optimizer, last_epoch)\n",
        "    \n",
        "    def get_lr(self):\n",
        "        if self.T_cur == -1:\n",
        "            return self.base_lrs\n",
        "        elif self.T_cur < self.T_up:\n",
        "            return [(self.eta_max - base_lr)*self.T_cur / self.T_up + base_lr for base_lr in self.base_lrs]\n",
        "        else:\n",
        "            return [base_lr + (self.eta_max - base_lr) * (1 + math.cos(math.pi * (self.T_cur-self.T_up) / (self.T_i - self.T_up))) / 2\n",
        "                    for base_lr in self.base_lrs]\n",
        "\n",
        "    def step(self, epoch=None):\n",
        "        if epoch is None:\n",
        "            epoch = self.last_epoch + 1\n",
        "            self.T_cur = self.T_cur + 1\n",
        "            if self.T_cur >= self.T_i:\n",
        "                self.cycle += 1\n",
        "                self.T_cur = self.T_cur - self.T_i\n",
        "                self.T_i = (self.T_i - self.T_up) * self.T_mult + self.T_up\n",
        "        else:\n",
        "            if epoch >= self.T_0:\n",
        "                if self.T_mult == 1:\n",
        "                    self.T_cur = epoch % self.T_0\n",
        "                    self.cycle = epoch // self.T_0\n",
        "                else:\n",
        "                    n = int(math.log((epoch / self.T_0 * (self.T_mult - 1) + 1), self.T_mult))\n",
        "                    self.cycle = n\n",
        "                    self.T_cur = epoch - self.T_0 * (self.T_mult ** n - 1) / (self.T_mult - 1)\n",
        "                    self.T_i = self.T_0 * self.T_mult ** (n)\n",
        "            else:\n",
        "                self.T_i = self.T_0\n",
        "                self.T_cur = epoch\n",
        "                \n",
        "        self.eta_max = self.base_eta_max * (self.gamma**self.cycle)\n",
        "        self.last_epoch = math.floor(epoch)\n",
        "        for param_group, lr in zip(self.optimizer.param_groups, self.get_lr()):\n",
        "            param_group['lr'] = lr"
      ],
      "metadata": {
        "id": "TGCIP9WYDCpX"
      },
      "execution_count": 93,
      "outputs": []
    },
    {
      "cell_type": "code",
      "source": [
        "\n",
        "class ModelEfficientNet(nn.Module):\n",
        "    def __init__(self, model_arch, n_class, pretrained=True):\n",
        "        super().__init__()\n",
        "        self.model = timm.create_model(model_arch, pretrained=pretrained)\n",
        "        self.model.classifier = nn.Linear(n_features, n_class)\n",
        "        n_features = self.model.classifier.in_features\n",
        "        \n",
        "    def forward(self, x):\n",
        "        return self.model(x)\n",
        "    \n",
        "# resnet, vit 추가"
      ],
      "metadata": {
        "id": "4dDh_gzKDG-x"
      },
      "execution_count": 94,
      "outputs": []
    },
    {
      "cell_type": "code",
      "source": [
        "CFG = {\n",
        "    'device': torch.device(\"cuda:0\" if torch.cuda.is_available() else \"cpu\"),\n",
        "    'accum_iter': 1,\n",
        "    'lr': 1e-4,\n",
        "    'seed':3033,\n",
        "    'epoch': 30,\n",
        "    'fold_num':5,\n",
        "    \n",
        "    # DataLoader\n",
        "    'num_workers': 4,\n",
        "    'batch_size': 32,\n",
        "\n",
        "    # Optimizer\n",
        "    'optimizer': 'Adam',\n",
        "\n",
        "    # Scheduler\n",
        "    'scheduler': 'CosineAnnealingWarmUpRestarts',\n",
        "\n",
        "    # Model\n",
        "    'base' : 'efficient', # efficient\n",
        "\n",
        "    # efficient 모델 종류 선택\n",
        "    # 출처: https://github.com/rwightman/pytorch-image-models/blob/master/timm/models/efficientnet.py\n",
        "    'model' : 'tf_efficientnet_b4_ns', # \n",
        "    \n",
        "} "
      ],
      "metadata": {
        "id": "gpi6R_ZxDff6"
      },
      "execution_count": 97,
      "outputs": []
    }
  ],
  "metadata": {
    "colab": {
      "name": "scratchpad",
      "provenance": []
    },
    "kernelspec": {
      "display_name": "Python 3",
      "name": "python3"
    }
  },
  "nbformat": 4,
  "nbformat_minor": 0
}