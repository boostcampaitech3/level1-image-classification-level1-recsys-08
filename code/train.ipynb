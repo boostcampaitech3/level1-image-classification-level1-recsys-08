{
 "cells": [
  {
   "cell_type": "code",
   "execution_count": 1,
   "id": "c2db31c0-8078-4ef0-9f7a-10e643d12c49",
   "metadata": {},
   "outputs": [],
   "source": [
    "from torch.utils.data import DataLoader, Subset\n",
    "from torchvision import models,transforms\n",
    "import pandas as pd\n",
    "import numpy as np\n",
    "import os\n",
    "from PIL import Image\n",
    "from typing import Tuple, List\n",
    "import torch\n",
    "from torch import optim,nn\n",
    "from torch.autograd import Variable\n",
    "from tqdm import tqdm\n",
    "import matplotlib.pyplot as plt\n",
    "\n",
    "from dataset import MaskDataset, AddGaussianNoise\n",
    "from models import get_pre_trained\n",
    "\n",
    "data_dir = '../../input/data/train'"
   ]
  },
  {
   "cell_type": "code",
   "execution_count": 2,
   "id": "73f2d175-b5d0-4493-a27f-82614831f71f",
   "metadata": {},
   "outputs": [],
   "source": [
    "torch.cuda.empty_cache()"
   ]
  },
  {
   "cell_type": "code",
   "execution_count": 3,
   "id": "9d394d76-ecde-4fc5-b99f-e5568f05b6c8",
   "metadata": {},
   "outputs": [],
   "source": [
    "# model_name = 'densenet161'\n",
    "model_name = 'resnet18'\n",
    "num_classes = 18\n",
    "# Initialize the model for this run\n",
    "model = get_pre_trained(model_name, feature_extract = False, pretrained = True)\n",
    "# Define the device:\n",
    "device = torch.device('cuda:0')\n",
    "# Put the model on the device:\n",
    "model = model.to(device)"
   ]
  },
  {
   "cell_type": "code",
   "execution_count": 4,
   "id": "43303f31-a08e-4bf1-937d-02b5c302cf7a",
   "metadata": {},
   "outputs": [
    {
     "name": "stdout",
     "output_type": "stream",
     "text": [
      "Data split completed: val_ratio=0.15\n",
      "n_train=16065, n_val=2835\n"
     ]
    }
   ],
   "source": [
    "norm_mean = (0.485, 0.456, 0.406)\n",
    "norm_std = (0.229, 0.224, 0.225)\n",
    "\n",
    "train_transform = transforms.Compose([\n",
    "#                                       transforms.RandomRotation(degrees = 5),\n",
    "#                                       transforms.ColorJitter(brightness=0.1, contrast=0.1, hue=0.1),\n",
    "#                                       transforms.Resize((512, 384), Image.BILINEAR\n",
    "#                                       transforms.RandomHorizontalFlip(p=0.5),\n",
    "                                      transforms.ToTensor(),\n",
    "                                      transforms.Normalize(norm_mean, norm_std),\n",
    "#                                       AddGaussianNoise()\n",
    "                                     ])\n",
    "val_transform = transforms.Compose([transforms.ToTensor(),\n",
    "                                    transforms.Normalize(norm_mean, norm_std)])\n",
    "\n",
    "dataset = MaskDataset(data_dir=data_dir,transforms=train_transform, adj_csv = True, val_ratio=0.15, up_sampling = 0, augment = 0)\n",
    "batch_size = 32\n",
    "train_set, val_set = dataset.split_dataset()\n",
    "use_cuda = torch.cuda.is_available()\n",
    "\n",
    "train_loader = DataLoader(\n",
    "    train_set,\n",
    "    batch_size=batch_size,\n",
    "    shuffle=True,\n",
    "    pin_memory=use_cuda,\n",
    "    drop_last=True,\n",
    ")\n",
    "\n",
    "val_loader = DataLoader(\n",
    "    val_set,\n",
    "    batch_size=batch_size,\n",
    "    shuffle=False,\n",
    "    pin_memory=use_cuda,\n",
    "    drop_last=True,\n",
    ")"
   ]
  },
  {
   "cell_type": "code",
   "execution_count": 5,
   "id": "45cade63-5c1b-4f9d-9b79-eb653ba14c55",
   "metadata": {},
   "outputs": [
    {
     "data": {
      "text/plain": [
       "torch.Size([32, 3, 512, 384])"
      ]
     },
     "execution_count": 5,
     "metadata": {},
     "output_type": "execute_result"
    }
   ],
   "source": [
    "next(iter(train_loader))[0].shape"
   ]
  },
  {
   "cell_type": "code",
   "execution_count": 6,
   "id": "3eced3f0-d710-4a9b-9696-e3139ab013fe",
   "metadata": {},
   "outputs": [],
   "source": [
    "# this function is used during training process, to calculation the loss and accuracy\n",
    "class AverageMeter(object):\n",
    "    def __init__(self):\n",
    "        self.reset()\n",
    "\n",
    "    def reset(self):\n",
    "        self.val = 0\n",
    "        self.avg = 0\n",
    "        self.sum = 0\n",
    "        self.count = 0\n",
    "\n",
    "    def update(self, val, n=1):\n",
    "        self.val = val\n",
    "        self.sum += val * n\n",
    "        self.count += n\n",
    "        self.avg = self.sum / self.count"
   ]
  },
  {
   "cell_type": "code",
   "execution_count": 7,
   "id": "a430e703-4ec6-4c4e-b1c5-20dd894cd3da",
   "metadata": {},
   "outputs": [],
   "source": [
    "def train(model, train_loader, criterion, optimizer, epoch):\n",
    "    save_dir = os.path.join(os.getcwd(), 'save')\n",
    "    model.train()\n",
    "    train_loss = AverageMeter()\n",
    "    train_acc = AverageMeter()\n",
    "    curr_iter = (epoch - 1) * len(train_loader)\n",
    "    \n",
    "    use_cuda = torch.cuda.is_available()\n",
    "    device = torch.device(\"cuda\" if use_cuda else \"cpu\")\n",
    "    \n",
    "    for i, data in enumerate(train_loader):\n",
    "        images, labels = data\n",
    "        N = images.size(0)\n",
    "        # print('image shape:',images.size(0), 'label shape',labels.size(0))\n",
    "        images = Variable(images).to(device)\n",
    "        labels = Variable(labels).to(device)\n",
    "\n",
    "        optimizer.zero_grad()\n",
    "        outputs = model(images)\n",
    "\n",
    "        loss = criterion(outputs, labels)\n",
    "        loss.backward()\n",
    "        optimizer.step()\n",
    "        prediction = outputs.max(1, keepdim=True)[1]\n",
    "        train_acc.update(prediction.eq(labels.view_as(prediction)).sum().item()/N)\n",
    "        train_loss.update(loss.item())\n",
    "        curr_iter += 1\n",
    "        if (i + 1) % 100 == 0:\n",
    "            print('[epoch %d], [iter %d / %d], [train loss %.5f], [train acc %.5f]' % (\n",
    "                epoch, i + 1, len(train_loader), train_loss.avg, train_acc.avg))\n",
    "            total_loss_train.append(train_loss.avg)\n",
    "            total_acc_train.append(train_acc.avg)\n",
    "    return train_loss.avg, train_acc.avg"
   ]
  },
  {
   "cell_type": "code",
   "execution_count": 8,
   "id": "0d61c83d-3d7f-41bf-85c0-ed6c1a854b40",
   "metadata": {},
   "outputs": [],
   "source": [
    "def validate(model, val_loader, criterion, optimizer, epoch):\n",
    "    model.eval()\n",
    "    val_loss = AverageMeter()\n",
    "    val_acc = AverageMeter()\n",
    "    with torch.no_grad():\n",
    "        for i, data in enumerate(val_loader):\n",
    "            images, labels = data\n",
    "            N = images.size(0)\n",
    "            images = Variable(images).to(device)\n",
    "            labels = Variable(labels).to(device)\n",
    "\n",
    "            outputs = model(images)\n",
    "            prediction = outputs.max(1, keepdim=True)[1]\n",
    "\n",
    "            val_acc.update(prediction.eq(labels.view_as(prediction)).sum().item()/N)\n",
    "\n",
    "            val_loss.update(criterion(outputs, labels).item())\n",
    "\n",
    "    print('------------------------------------------------------------')\n",
    "    print('[epoch %d], [val loss %.5f], [val acc %.5f]' % (epoch, val_loss.avg, val_acc.avg))\n",
    "    print('------------------------------------------------------------')\n",
    "    return val_loss.avg, val_acc.avg"
   ]
  },
  {
   "cell_type": "code",
   "execution_count": 9,
   "id": "e01dcd83-7c6a-4749-a152-a95a66220836",
   "metadata": {},
   "outputs": [
    {
     "name": "stderr",
     "output_type": "stream",
     "text": [
      "  0%|          | 0/3 [00:00<?, ?it/s]"
     ]
    },
    {
     "name": "stdout",
     "output_type": "stream",
     "text": [
      "[epoch 1], [iter 100 / 502], [train loss 0.95802], [train acc 0.73031]\n",
      "[epoch 1], [iter 200 / 502], [train loss 0.65696], [train acc 0.80953]\n",
      "[epoch 1], [iter 300 / 502], [train loss 0.52952], [train acc 0.84198]\n",
      "[epoch 1], [iter 400 / 502], [train loss 0.45545], [train acc 0.86172]\n",
      "[epoch 1], [iter 500 / 502], [train loss 0.40122], [train acc 0.87750]\n",
      "------------------------------------------------------------\n",
      "[epoch 1], [val loss 0.17163], [val acc 0.94283]\n",
      "------------------------------------------------------------\n"
     ]
    },
    {
     "name": "stderr",
     "output_type": "stream",
     "text": [
      " 33%|███▎      | 1/3 [02:52<05:45, 172.87s/it]"
     ]
    },
    {
     "name": "stdout",
     "output_type": "stream",
     "text": [
      "*****************************************************\n",
      "best record: [epoch 1], [val loss 0.17163], [val acc 0.94283]\n",
      "*****************************************************\n",
      "[epoch 2], [iter 100 / 502], [train loss 0.14380], [train acc 0.95781]\n",
      "[epoch 2], [iter 200 / 502], [train loss 0.13936], [train acc 0.95750]\n",
      "[epoch 2], [iter 300 / 502], [train loss 0.13984], [train acc 0.95792]\n",
      "[epoch 2], [iter 400 / 502], [train loss 0.13758], [train acc 0.95813]\n",
      "[epoch 2], [iter 500 / 502], [train loss 0.13795], [train acc 0.95731]\n",
      "------------------------------------------------------------\n",
      "[epoch 2], [val loss 0.13839], [val acc 0.95277]\n",
      "------------------------------------------------------------\n"
     ]
    },
    {
     "name": "stderr",
     "output_type": "stream",
     "text": [
      " 67%|██████▋   | 2/3 [05:07<02:30, 150.26s/it]"
     ]
    },
    {
     "name": "stdout",
     "output_type": "stream",
     "text": [
      "*****************************************************\n",
      "best record: [epoch 2], [val loss 0.13839], [val acc 0.95277]\n",
      "*****************************************************\n",
      "[epoch 3], [iter 100 / 502], [train loss 0.12833], [train acc 0.95969]\n",
      "[epoch 3], [iter 200 / 502], [train loss 0.12864], [train acc 0.96203]\n",
      "[epoch 3], [iter 300 / 502], [train loss 0.12572], [train acc 0.96208]\n",
      "[epoch 3], [iter 400 / 502], [train loss 0.12337], [train acc 0.96281]\n",
      "[epoch 3], [iter 500 / 502], [train loss 0.12567], [train acc 0.96131]\n",
      "------------------------------------------------------------\n",
      "[epoch 3], [val loss 0.13152], [val acc 0.95419]\n",
      "------------------------------------------------------------\n"
     ]
    },
    {
     "name": "stderr",
     "output_type": "stream",
     "text": [
      "100%|██████████| 3/3 [07:21<00:00, 147.19s/it]"
     ]
    },
    {
     "name": "stdout",
     "output_type": "stream",
     "text": [
      "*****************************************************\n",
      "best record: [epoch 3], [val loss 0.13152], [val acc 0.95419]\n",
      "*****************************************************\n"
     ]
    },
    {
     "name": "stderr",
     "output_type": "stream",
     "text": [
      "\n"
     ]
    }
   ],
   "source": [
    "MODEL_PATH = '../model' + '/' + model_name\n",
    "os.makedirs(MODEL_PATH, exist_ok=True)\n",
    "epoch_num = 3\n",
    "best_val_acc = 0\n",
    "total_loss_train, total_acc_train = [],[]\n",
    "total_loss_val, total_acc_val = [],[]\n",
    "optimizer = optim.Adam(model.parameters(), lr=1e-4)\n",
    "criterion = nn.CrossEntropyLoss().to(device)\n",
    "for epoch in tqdm(range(1, epoch_num+1)):\n",
    "    if epoch>=2:\n",
    "        for name, param in model.named_parameters():\n",
    "            if name.startswith('fc') or name.startswith('classifier'):\n",
    "                param.requires_grad = True\n",
    "            else:\n",
    "                param.requires_grad = False\n",
    "    loss_train, acc_train = train(model, train_loader, criterion, optimizer, epoch)\n",
    "    loss_val, acc_val = validate(model, val_loader, criterion, optimizer, epoch)\n",
    "    total_loss_val.append(loss_val)\n",
    "    total_acc_val.append(acc_val)\n",
    "    if acc_val > best_val_acc:\n",
    "        best_val_acc = acc_val\n",
    "        torch.save(model.state_dict(), os.path.join(MODEL_PATH, f\"{model_name}_best.pt\"))\n",
    "        print('*****************************************************')\n",
    "        print('best record: [epoch %d], [val loss %.5f], [val acc %.5f]' % (epoch, loss_val, acc_val))\n",
    "        print('*****************************************************')"
   ]
  },
  {
   "cell_type": "code",
   "execution_count": 10,
   "id": "0326d3d9-0215-4dbd-bdfd-e18834e6db64",
   "metadata": {},
   "outputs": [
    {
     "data": {
      "image/png": "[encoded data removed]",
      "text/plain": [
       "<Figure size 864x432 with 2 Axes>"
      ]
     },
     "metadata": {
      "needs_background": "light"
     },
     "output_type": "display_data"
    }
   ],
   "source": [
    "fig = plt.figure(num = 2, figsize = (12,6))\n",
    "fig1 = fig.add_subplot(2,1,1)\n",
    "fig2 = fig.add_subplot(2,1,2)\n",
    "fig1.plot(total_loss_train, label = 'training loss')\n",
    "fig1.plot(total_acc_train, label = 'training accuracy')\n",
    "fig1.legend()\n",
    "fig2.plot(total_loss_val, label = 'validation loss')\n",
    "fig2.plot(total_acc_val, label = 'validation accuracy')\n",
    "fig2.legend()\n",
    "plt.show()"
   ]
  },
  {
   "cell_type": "code",
   "execution_count": null,
   "id": "ed9117c4-abd0-4b28-b005-45858f0ee039",
   "metadata": {},
   "outputs": [],
   "source": []
  }
 ],
 "metadata": {
  "kernelspec": {
   "display_name": "Python 3",
   "language": "python",
   "name": "python3"
  },
  "language_info": {
   "codemirror_mode": {
    "name": "ipython",
    "version": 3
   },
   "file_extension": ".py",
   "mimetype": "text/x-python",
   "name": "python",
   "nbconvert_exporter": "python",
   "pygments_lexer": "ipython3",
   "version": "3.8.5"
  }
 },
 "nbformat": 4,
 "nbformat_minor": 5
}
