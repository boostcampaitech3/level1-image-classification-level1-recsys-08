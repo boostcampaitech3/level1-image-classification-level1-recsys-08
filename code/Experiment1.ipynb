{
 "cells": [
  {
   "cell_type": "markdown",
   "id": "dac6a0a2-b637-48c5-b5f7-3873178e3abe",
   "metadata": {},
   "source": [
    "# 실험 1\n",
    "\n",
    "**Augmentation**: 클래스별 데이터 개수 균일화 및 얼굴부분에 대해서만 crop하는 Augmentation 구현"
   ]
  },
  {
   "cell_type": "markdown",
   "id": "a3e90b1c-b3b4-4d4e-8422-b7084100ae47",
   "metadata": {},
   "source": [
    "### import"
   ]
  },
  {
   "cell_type": "code",
   "execution_count": null,
   "id": "abcb114d-0137-4231-950f-18c6ecd6a6c0",
   "metadata": {},
   "outputs": [],
   "source": [
    "import os\n",
    "import random\n",
    "import collections\n",
    "from glob import glob\n",
    "import numpy as np\n",
    "import pandas as pd\n",
    "import cv2 as cv\n",
    "from PIL import Image\n",
    "from tqdm.notebook import tqdm\n",
    "from time import time\n",
    "\n",
    "from albumentations import *\n",
    "\n",
    "import matplotlib.pyplot as plt\n",
    "# import seaborn as sns\n",
    "\n",
    "import torch\n",
    "import torchvision\n",
    "import torch.nn as nn\n",
    "import torch.optim as optim\n",
    "import torch.nn.functional as F\n",
    "from torchvision import transforms, utils\n",
    "from torch.utils.data import Dataset, DataLoader, Subset\n",
    "\n",
    "from sklearn.model_selection import train_test_split\n",
    "\n",
    "from typing import Tuple"
   ]
  },
  {
   "cell_type": "markdown",
   "id": "bacde055-25fa-4216-b60d-f742cd3a2eb0",
   "metadata": {},
   "source": [
    "### 변수 선언"
   ]
  },
  {
   "cell_type": "code",
   "execution_count": null,
   "id": "88a87a3c-4881-40c1-9de9-e2592182b0ec",
   "metadata": {},
   "outputs": [],
   "source": [
    "data_dir = '/opt/ml/input/data/train'\n",
    "\n",
    "img_paths = glob(os.path.join(f'{data_dir}/images', '**/*'))\n",
    "random.shuffle(img_paths)"
   ]
  },
  {
   "cell_type": "markdown",
   "id": "2fe22c24-a479-42fd-a6bd-ceb034cd39c3",
   "metadata": {},
   "source": [
    "### Augmentation\n",
    "얼굴 부분만 가져오는 Augmentation 만들어보기"
   ]
  },
  {
   "cell_type": "markdown",
   "id": "231a46ea-2c5f-464f-ab70-52c1b39f6c7a",
   "metadata": {},
   "source": [
    "#### FaceCropWithDetection\n",
    "cv2 face detection을 통해 얼굴 부분만 가져오기"
   ]
  },
  {
   "cell_type": "code",
   "execution_count": null,
   "id": "d208bc95-c5b6-4ec3-9725-64a948837429",
   "metadata": {},
   "outputs": [],
   "source": [
    "class FaceCropWithDetection:\n",
    "    '''\n",
    "    image에서 detection을 이용해 얼굴 부분만 잘라주는 Augmentation\n",
    "    '''\n",
    "    def __init__(self, **args):\n",
    "        pass\n",
    "    \n",
    "    def crop_image(self, image):\n",
    "        '''\n",
    "        input \n",
    "            image: PIL Image\n",
    "        output\n",
    "            tuple: (x, y, w, h)\n",
    "        '''\n",
    "        casc_path = \"haarcascade_frontalface_default.xml\"\n",
    "        face_cascade = cv.CascadeClassifier(casc_path)\n",
    "        \n",
    "        frame_gray = cv.cvtColor(np.array(image), cv.COLOR_BGR2GRAY)\n",
    "        frame_gray = cv.equalizeHist(frame_gray)\n",
    "        \n",
    "        # 얼굴 탐지\n",
    "        faces = face_cascade.detectMultiScale(frame_gray)\n",
    "        \n",
    "        # 탐지된 얼굴이 없는 경우\n",
    "        if len(faces) == 0:\n",
    "            return 0, 0, 0, 0\n",
    "        \n",
    "        # 인식한 1번째 얼굴의 시작 x좌표, 시작 y좌표, 너비, 높이 리턴\n",
    "        return faces[0]\n",
    "    \n",
    "    def __call__(self, image):\n",
    "        '''\n",
    "        input\n",
    "            image: PIL Image\n",
    "        output\n",
    "            PIL Image\n",
    "        '''\n",
    "        # 얼굴 x, y, w, h 데이터 받기\n",
    "        x, y, w, h = self.crop_image(image)\n",
    "        out = np.array(image)\n",
    "        \n",
    "        # 탐지된 얼굴이 있는 경우\n",
    "        if w != 0 or h != 0:\n",
    "            out = out[y:y+h, x:x+w]\n",
    "        \n",
    "        # PIL Image로 리턴\n",
    "        return Image.fromarray(out)"
   ]
  },
  {
   "cell_type": "markdown",
   "id": "92d17286-0531-4b8d-b362-4c15ea431fbc",
   "metadata": {},
   "source": [
    "#### FaceCropWithHSV\n",
    "rgb 데이터를 hsv로 변환한 후, 특정 범위의 값을 가지는 pixel들을 모두 포함하는 부분만 가져오기"
   ]
  },
  {
   "cell_type": "code",
   "execution_count": null,
   "id": "9d011a93-9a81-4673-9c38-471f468ed4f5",
   "metadata": {},
   "outputs": [],
   "source": [
    "class FaceCropWithHSV:\n",
    "    '''\n",
    "    image에서 hsv 데이터를 바탕으로 얼굴 부분만 잘라주는 Augmentation\n",
    "    '''\n",
    "    def __init__(self, **args):\n",
    "        pass\n",
    "    \n",
    "    def get_face_box(self, image_path):\n",
    "        '''\n",
    "        input\n",
    "            image_path: str(이미지 경로)\n",
    "        output\n",
    "            tuple: (y_start, y_end, x_start, x_end)\n",
    "        '''\n",
    "        # hsv 범위 설정\n",
    "        lower = np.array([0, 48, 80], dtype = \"uint8\") # 0 48 80\n",
    "        upper = np.array([30, 255, 255], dtype = \"uint8\") # 20 255 255\n",
    "        \n",
    "        image = cv.imread(image_path)\n",
    "        hsv_image = cv.cvtColor(image, cv.COLOR_BGR2HSV)\n",
    "        skin_mask = cv.inRange(hsv_image, lower, upper)\n",
    "        \n",
    "        y_start, y_end = 1000, 0\n",
    "        x_start, x_end = 1000, 0\n",
    "        \n",
    "        for y in range(len(skin_mask)):\n",
    "            for x in range(len(skin_mask[0])):\n",
    "                if skin_mask[y][x] > 0:\n",
    "                    y_start, y_end = min(y_start, y), max(y_end, y)\n",
    "                    x_start, x_end = min(x_start, x), max(x_end, x)\n",
    "        return y_start, y_end, x_start, x_end\n",
    "    \n",
    "    def __call__(self, image_path):\n",
    "        '''\n",
    "        input\n",
    "            image_path: str(이미지 경로)\n",
    "        '''\n",
    "        # 얼굴 x_start, y_start, x_end, y_end 데이터 받기\n",
    "        y_start, y_end, x_start, x_end = self.get_face_box(image_path)\n",
    "        \n",
    "        # 이미지 경로를 ndarray로 변환\n",
    "        image = Image.open(image_path)\n",
    "        image = np.asarray(image)\n",
    "        \n",
    "        return Image.fromarray(image[y_start:y_end+1, x_start:x_end+1])"
   ]
  },
  {
   "cell_type": "markdown",
   "id": "faaea793-ce35-4a90-bd53-9353dc440bba",
   "metadata": {},
   "source": [
    "#### 테스트"
   ]
  },
  {
   "cell_type": "code",
   "execution_count": null,
   "id": "2a5b64a4-8d44-417a-8238-7ccbc564f4a1",
   "metadata": {},
   "outputs": [],
   "source": [
    "# 테스트할 이미지 파일 개수 설정\n",
    "N = 4\n",
    "\n",
    "# 사용할 이미지 파일을 랜덤하게 선택\n",
    "idxs = np.random.choice(len(img_paths), N)\n",
    "imgpath_list = np.array(img_paths)[idxs]\n",
    "\n",
    "# CenterCrop에 사용할 crop_size 정의\n",
    "portion = 0.9\n",
    "crop_size = (int(512*portion), int(384*portion))\n",
    "\n",
    "# transform 정의\n",
    "centercrop = transforms.CenterCrop(crop_size)\n",
    "detection_crop = FaceCropWithDetection()\n",
    "hsv_crop = FaceCropWithHSV()\n",
    "\n",
    "# 결과 시각화\n",
    "fig, ax = plt.subplots(N, 4, figsize=(10, 10))\n",
    "\n",
    "for idx, image_path in enumerate(imgpath_list):\n",
    "    # 원본 이미지\n",
    "    image = Image.open(image_path)\n",
    "    \n",
    "    # transform을 적용한 이미지들\n",
    "    centercrop_image = centercrop(image)\n",
    "    dection_image = detection_crop(image)\n",
    "    hsv_image = hsv_crop(image_path)\n",
    "    \n",
    "    ax[idx][0].set_title('before crop')\n",
    "    ax[idx][0].imshow(image)\n",
    "    ax[idx][0].set_axis_off()\n",
    "    \n",
    "    ax[idx][1].set_title('center crop')\n",
    "    ax[idx][1].imshow(centercrop_image)\n",
    "    ax[idx][1].set_axis_off()\n",
    "    \n",
    "    ax[idx][2].set_title('detection crop')\n",
    "    ax[idx][2].imshow(dection_image)\n",
    "    ax[idx][2].set_axis_off()\n",
    "    \n",
    "    ax[idx][3].set_title('hsv crop')\n",
    "    ax[idx][3].imshow(hsv_image)\n",
    "    ax[idx][3].set_axis_off()\n",
    "\n",
    "plt.tight_layout(0)\n",
    "plt.show()"
   ]
  }
 ],
 "metadata": {
  "kernelspec": {
   "display_name": "Python 3 (ipykernel)",
   "language": "python",
   "name": "python3"
  },
  "language_info": {
   "codemirror_mode": {
    "name": "ipython",
    "version": 3
   },
   "file_extension": ".py",
   "mimetype": "text/x-python",
   "name": "python",
   "nbconvert_exporter": "python",
   "pygments_lexer": "ipython3",
   "version": "3.7.12"
  }
 },
 "nbformat": 4,
 "nbformat_minor": 5
}
