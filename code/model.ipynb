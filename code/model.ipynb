{
 "cells": [
  {
   "cell_type": "code",
   "execution_count": 1,
   "id": "e8ccfefa-89d9-4e99-aa2e-a2ab2623d934",
   "metadata": {},
   "outputs": [],
   "source": [
    "import torch.nn as nn\n",
    "import torch.nn.functional as F\n",
    "from torchvision import models,transforms"
   ]
  },
  {
   "cell_type": "code",
   "execution_count": 2,
   "id": "fabedcc1-fa9f-44ca-95d9-84a44e98f312",
   "metadata": {},
   "outputs": [],
   "source": [
    "def set_parameter_requires_grad(model, feature_extracting):\n",
    "    if feature_extracting:\n",
    "        for param in model.parameters():\n",
    "            param.requires_grad = False\n",
    "\n",
    "\n",
    "def get_pre_trained(model_name, feature_extract=True, pretrained = True):\n",
    "    num_classes = 18\n",
    "    if model_name == 'densenet169':\n",
    "        model = models.densenet169(pretrained=pretrained)\n",
    "        num_ftrs = model.classifier.in_features\n",
    "        set_parameter_requires_grad(model, feature_extract)\n",
    "        model.classifier = nn.Linear(num_ftrs, num_classes)\n",
    "\n",
    "    if model_name == 'resnet18':\n",
    "        model = models.resnet18(pretrained=pretrained)\n",
    "        num_ftrs = model.fc.in_features\n",
    "        set_parameter_requires_grad(model, feature_extract)\n",
    "        model.fc = nn.Linear(num_ftrs, num_classes)\n",
    "    \n",
    "    if model_name == 'resnet50':\n",
    "        model = models.resnet50(pretrained=pretrained)\n",
    "        num_ftrs = model.fc.in_features\n",
    "        set_parameter_requires_grad(model, feature_extract)\n",
    "        model.fc = nn.Linear(num_ftrs, num_classes)\n",
    "        \n",
    "    return model"
   ]
  },
  {
   "cell_type": "code",
   "execution_count": 3,
   "id": "58c4649e-d239-4fc6-bbe5-d88d2f70cb27",
   "metadata": {},
   "outputs": [
    {
     "name": "stderr",
     "output_type": "stream",
     "text": [
      "Downloading: \"https://download.pytorch.org/models/resnet18-5c106cde.pth\" to /opt/ml/.cache/torch/hub/checkpoints/resnet18-5c106cde.pth\n"
     ]
    },
    {
     "data": {
      "application/vnd.jupyter.widget-view+json": {
       "model_id": "3d263d41e365494ebc5769e88e05426b",
       "version_major": 2,
       "version_minor": 0
      },
      "text/plain": [
       "  0%|          | 0.00/44.7M [00:00<?, ?B/s]"
      ]
     },
     "metadata": {},
     "output_type": "display_data"
    }
   ],
   "source": [
    "model = get_pre_trained('resnet18', pretrained = True)"
   ]
  },
  {
   "cell_type": "code",
   "execution_count": 4,
   "id": "19371eb0-aa1c-4301-94ba-be1eaa777929",
   "metadata": {},
   "outputs": [],
   "source": [
    "class Models(nn.Module):\n",
    "    def __init__(self, num_classes):\n",
    "        super().__init__()\n",
    "\n",
    "        \"\"\"\n",
    "        1. 위와 같이 생성자의 parameter 에 num_claases 를 포함해주세요.\n",
    "        2. 나만의 모델 아키텍쳐를 디자인 해봅니다.\n",
    "        3. 모델의 output_dimension 은 num_classes 로 설정해주세요.\n",
    "        \"\"\"\n",
    "\n",
    "    def forward(self, x):\n",
    "        \"\"\"\n",
    "        1. 위에서 정의한 모델 아키텍쳐를 forward propagation 을 진행해주세요\n",
    "        2. 결과로 나온 output 을 return 해주세요\n",
    "        \"\"\"\n",
    "        return x"
   ]
  },
  {
   "cell_type": "code",
   "execution_count": null,
   "id": "7b94eca4-6bf1-4d7c-b9a6-5dcbb2fa2894",
   "metadata": {},
   "outputs": [],
   "source": []
  }
 ],
 "metadata": {
  "kernelspec": {
   "display_name": "Python 3 (ipykernel)",
   "language": "python",
   "name": "python3"
  },
  "language_info": {
   "codemirror_mode": {
    "name": "ipython",
    "version": 3
   },
   "file_extension": ".py",
   "mimetype": "text/x-python",
   "name": "python",
   "nbconvert_exporter": "python",
   "pygments_lexer": "ipython3",
   "version": "3.8.5"
  }
 },
 "nbformat": 4,
 "nbformat_minor": 5
}
