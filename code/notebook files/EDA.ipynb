{
 "cells": [
  {
   "cell_type": "markdown",
   "id": "4ed90125",
   "metadata": {},
   "source": [
    "## Image Classification EDA"
   ]
  },
  {
   "cell_type": "markdown",
   "id": "3c081329",
   "metadata": {},
   "source": [
    "### import"
   ]
  },
  {
   "cell_type": "code",
   "execution_count": null,
   "id": "afd14ee8",
   "metadata": {},
   "outputs": [],
   "source": [
    "# !pip install plotly statsmodels\n",
    "# !pip install tqdm"
   ]
  },
  {
   "cell_type": "code",
   "execution_count": null,
   "id": "a95318a5",
   "metadata": {},
   "outputs": [],
   "source": [
    "import os\n",
    "from tqdm import tqdm\n",
    "import numpy as np\n",
    "import pandas as pd\n",
    "import matplotlib.pyplot as plt\n",
    "from PIL import Image\n",
    "import plotly.express as px\n",
    "\n",
    "pd.set_option('mode.chained_assignment',  None)"
   ]
  },
  {
   "cell_type": "markdown",
   "id": "5b1dd7e7",
   "metadata": {},
   "source": [
    "### 변수 선언"
   ]
  },
  {
   "cell_type": "code",
   "execution_count": null,
   "id": "1584987d",
   "metadata": {},
   "outputs": [],
   "source": [
    "data_dir = '../input/data/train'"
   ]
  },
  {
   "cell_type": "markdown",
   "id": "9922007a",
   "metadata": {},
   "source": [
    "### pandas를 이용한 train.csv 분석"
   ]
  },
  {
   "cell_type": "code",
   "execution_count": null,
   "id": "f5fce9c7",
   "metadata": {},
   "outputs": [],
   "source": [
    "train_info = pd.read_csv(f'{data_dir}/train.csv')\n",
    "train_info = train_info.drop('id', axis=1)"
   ]
  },
  {
   "cell_type": "markdown",
   "id": "3a99e8a0",
   "metadata": {},
   "source": [
    "#### 결측치 확인\n",
    "결측치가 없는 것을 확인할 수 있다."
   ]
  },
  {
   "cell_type": "code",
   "execution_count": null,
   "id": "052f1a28",
   "metadata": {},
   "outputs": [],
   "source": [
    "train_info.isnull().sum()"
   ]
  },
  {
   "cell_type": "markdown",
   "id": "04b58160",
   "metadata": {},
   "source": [
    "#### train.csv 파일 정보 확인\n",
    "gender, race, age, path 4가지 feature를 가지고 있으며, 총 2700개의 데이터가 있다."
   ]
  },
  {
   "cell_type": "code",
   "execution_count": null,
   "id": "d17cd137",
   "metadata": {},
   "outputs": [],
   "source": [
    "train_info.info()"
   ]
  },
  {
   "cell_type": "markdown",
   "id": "38da6f07",
   "metadata": {},
   "source": [
    "gender - male/female 2가지 categorical한 값\n",
    "\n",
    "race - Asian으로 통일됨\n",
    "\n",
    "age - 18~60 사이의 자연수값\n",
    "\n",
    "path - row 데이터와 연관된 folder path"
   ]
  },
  {
   "cell_type": "code",
   "execution_count": null,
   "id": "43f4c68c",
   "metadata": {},
   "outputs": [],
   "source": [
    "train_info.describe(include='all')"
   ]
  },
  {
   "cell_type": "code",
   "execution_count": null,
   "id": "d1b7113f",
   "metadata": {},
   "outputs": [],
   "source": [
    "train_info.sample(10)"
   ]
  },
  {
   "cell_type": "markdown",
   "id": "af8f89e0",
   "metadata": {},
   "source": [
    "### 데이터 전처리\n",
    "1개의 row를 7개로 분리하는 작업(폴더에 총 7가지 데이터가 있어 이를 분리하는 작업)\n",
    "\n",
    "mask_class: mask 착용상태(wear = 0, incorrect = 1, not wear = 2)에 따라 분리한 class"
   ]
  },
  {
   "cell_type": "code",
   "execution_count": null,
   "id": "706fedd0",
   "metadata": {},
   "outputs": [],
   "source": [
    "train_info['mask_class'] = 0\n",
    "train_info['image_path'] = ''\n",
    "color_info = pd.DataFrame()\n",
    "\n",
    "# train_info row 수\n",
    "data_size = len(train_info)\n",
    "\n",
    "for i in tqdm(range(data_size)):\n",
    "    # row folder path 변수 선언\n",
    "    folder_path = os.listdir(f\"{data_dir}/images/{train_info['path'][i]}\")\n",
    "    \n",
    "    for j in range(len(folder_path)):\n",
    "        filepath = folder_path[j]\n",
    "        filename = filepath.split('.')[0]\n",
    "        \n",
    "        # mask 착용여부 (0-wear, 1-incorrect, 2-not wear)\n",
    "        val = 0\n",
    "        \n",
    "        if filename == 'incorrect_mask': val = 1\n",
    "        elif filename == 'normal': val = 2\n",
    "        \n",
    "        # 이미지 경로 변수 선언\n",
    "        image_path = f\"images/{train_info['path'][i]}/{filepath}\"\n",
    "        \n",
    "        # 첫번째 이미지는 원래 dataframe row 데이터 수정\n",
    "        if j == 0: \n",
    "            train_info['mask_class'][i] = val\n",
    "            train_info['image_path'][i] = image_path\n",
    "        \n",
    "        # 나머지 이미지는 새로운 row 생성\n",
    "        else:\n",
    "            new_train_series = train_info.iloc[i].copy()\n",
    "            new_train_series['mask_class'] = val\n",
    "            new_train_series['image_path'] = image_path\n",
    "            train_info = train_info.append(new_train_series, ignore_index=True)\n",
    "            "
   ]
  },
  {
   "cell_type": "markdown",
   "id": "da595763",
   "metadata": {},
   "source": [
    "전처리 후 데이터의 개수가 2700에서 18900(2700*7)로 바뀐 것을 확인 가능"
   ]
  },
  {
   "cell_type": "code",
   "execution_count": null,
   "id": "1be84cc3",
   "metadata": {},
   "outputs": [],
   "source": [
    "len(train_info)"
   ]
  },
  {
   "cell_type": "markdown",
   "id": "0641a579",
   "metadata": {},
   "source": [
    "#### 기존 feature class화\n",
    "age_class: age값들을 0-29, 30-59, 60- 3개 구간으로 분리한 클래스\n",
    "\n",
    "gender_class: male은 0, female은 1로 분류한 이진 클래스\n",
    "\n",
    "class: age_class, gender_class, mask_class를 바탕으로 0~17 총 18개로 구분된 클래스"
   ]
  },
  {
   "cell_type": "code",
   "execution_count": null,
   "id": "48a80402",
   "metadata": {},
   "outputs": [],
   "source": [
    "# age class 설정\n",
    "def age2num(x):\n",
    "    '''\n",
    "    age값을 구간을 대표하는 값으로 변환하는 함수\n",
    "    input: x(Int)\n",
    "    output: 0[0-29 대표] or 1[30-59 대표] or 2[[60- 대표](Integer)\n",
    "    '''\n",
    "    if x >= 60: return 2 # [60, inf)\n",
    "    elif x >= 30: return 1 # [30, 60)\n",
    "    return 0 # [0, 30)\n",
    "\n",
    "train_info['age_class'] = train_info['age'].map(age2num)\n",
    "\n",
    "# gender class 설정(male=0, female=1)\n",
    "gender2cat = {'male': 0, 'female': 1}\n",
    "\n",
    "train_info['gender_class'] = train_info['gender'].map(gender2cat)\n",
    "\n",
    "# 전체 class 설정(0~17, 총 18개 클래스)\n",
    "train_info['class'] = train_info['mask_class'] * 6 \\\n",
    "                      + train_info['gender_class'] * 3 \\\n",
    "                      + train_info['age_class']\n",
    "\n",
    "train_info['age_class'] = train_info['age_class'].astype('category')\n",
    "train_info['gender_class'] = train_info['gender_class'].astype('category')\n",
    "train_info['mask_class'] = train_info['mask_class'].astype('category')\n",
    "train_info['class'] = train_info['class'].astype('category')\n",
    "\n",
    "train_info.info()"
   ]
  },
  {
   "cell_type": "markdown",
   "id": "69530117",
   "metadata": {},
   "source": [
    "### 데이터 분석"
   ]
  },
  {
   "cell_type": "markdown",
   "id": "262cbaa6",
   "metadata": {},
   "source": [
    "#### gender 분석\n",
    "female data가 male data에 비해 1.5배 많은 것을 확인 가능"
   ]
  },
  {
   "cell_type": "code",
   "execution_count": null,
   "id": "8577165f",
   "metadata": {
    "scrolled": false
   },
   "outputs": [],
   "source": [
    "gender_cnt = train_info['gender'].value_counts()\n",
    "print(gender_cnt)\n",
    "\n",
    "fig, ax = plt.subplots(1, 1, figsize=(7, 7))\n",
    "ax.pie(gender_cnt, \n",
    "       labels=['female', 'male'], \n",
    "       autopct='%1.1f%%',\n",
    "       colors=['#FF6692', '#B6E880'])\n",
    "plt.show()"
   ]
  },
  {
   "cell_type": "markdown",
   "id": "4562ffe5",
   "metadata": {},
   "source": [
    "#### race 분석\n",
    "Asian 값 하나만이 존재했다."
   ]
  },
  {
   "cell_type": "code",
   "execution_count": null,
   "id": "327e48a6",
   "metadata": {},
   "outputs": [],
   "source": [
    "len(train_info['race'].unique())"
   ]
  },
  {
   "cell_type": "markdown",
   "id": "c049df79",
   "metadata": {},
   "source": [
    "#### age 분석\n",
    "(0-29, 30-59, 60-) 3가지 구간으로 분리했다.\n",
    "\n",
    "60- 구간 데이터의 비율이 적은 것을 확인 가능했다."
   ]
  },
  {
   "cell_type": "code",
   "execution_count": null,
   "id": "a138c68c",
   "metadata": {},
   "outputs": [],
   "source": [
    "age_cnt = train_info['age_class'].value_counts()\n",
    "print(age_cnt)\n",
    "\n",
    "fig, ax = plt.subplots(1, 1, figsize=(7, 7))\n",
    "ax.pie(age_cnt, \n",
    "       labels=['0-29', '30-59', '60-'], \n",
    "       autopct='%1.1f%%',\n",
    "       colors=['#FF6692', '#B6E880', '#FF97FF'])\n",
    "plt.show()"
   ]
  },
  {
   "cell_type": "markdown",
   "id": "2e54c08c",
   "metadata": {},
   "source": [
    "#### mask_class 분석\n",
    "wear(0), incorrect(1), not wear(2)로 구분해 분석했다.\n",
    "\n",
    "wear 상태가 전체 데이터의 70%, 나머지는 약 14%씩을 차지했다."
   ]
  },
  {
   "cell_type": "code",
   "execution_count": null,
   "id": "76c8ec2d",
   "metadata": {},
   "outputs": [],
   "source": [
    "mask_cnt = train_info['mask_class'].value_counts()\n",
    "print(mask_cnt)\n",
    "\n",
    "fig, ax = plt.subplots(1, 1, figsize=(7, 7))\n",
    "ax.pie(mask_cnt, \n",
    "       labels=['wear', 'incorrect', 'not wear'], \n",
    "       autopct='%1.1f%%',\n",
    "       colors=['#FF6692', '#B6E880', '#FF97FF'])\n",
    "plt.show()"
   ]
  },
  {
   "cell_type": "markdown",
   "id": "8e97e61a",
   "metadata": {},
   "source": [
    "####  class 분석\n",
    "0~17 총 18개의 클래스별 데이터 개수를 분석했다.\n",
    "불균형이 눈에 띄었다.\n",
    "\n",
    "red line plot은 클래스 데이터 개수 평균이다."
   ]
  },
  {
   "cell_type": "code",
   "execution_count": null,
   "id": "2199adf2",
   "metadata": {},
   "outputs": [],
   "source": [
    "class_cnt = train_info['class'].value_counts().sort_index()\n",
    "print(class_cnt)\n",
    "\n",
    "fig, ax = plt.subplots(1, figsize=(8, 6))\n",
    "ax.bar(class_cnt.index, class_cnt.values, color=['C0','C1','C2','C3','C4','C5','C6','C7','C8','C9','r','g','b','c','m','y','k','lime'])\n",
    "ax.plot(range(-5, 19), [18900/18]*24, color='r')\n",
    "ax.set_xticks(range(0,18))\n",
    "plt.xlim([-1, 18])\n",
    "plt.show()"
   ]
  },
  {
   "cell_type": "code",
   "execution_count": null,
   "id": "9e7dee77",
   "metadata": {},
   "outputs": [],
   "source": [
    "train_info = train_info.sort_values(by=['class'], axis=0)\n",
    "\n",
    "fig = px.histogram(train_info, \n",
    "                 x='age',\n",
    "                 y='gender',\n",
    "                 color_discrete_sequence=px.colors.qualitative.Light24,\n",
    "                 color=\"class\",\n",
    "                 facet_col=\"age_class\",\n",
    ")\n",
    "\n",
    "fig.show()"
   ]
  },
  {
   "cell_type": "code",
   "execution_count": null,
   "id": "40d1b011",
   "metadata": {},
   "outputs": [],
   "source": [
    "fig = px.scatter_matrix(train_info, \n",
    "                 dimensions=['age','gender_class'],\n",
    "                 color='class',\n",
    ")\n",
    "\n",
    "fig.show()"
   ]
  },
  {
   "cell_type": "markdown",
   "id": "5bca329d",
   "metadata": {},
   "source": [
    "### image 확인해보기"
   ]
  },
  {
   "cell_type": "markdown",
   "id": "25173046",
   "metadata": {},
   "source": [
    "#### 폴더별 이미지 확인해보기\n",
    "N개의 폴더 내에 있는 데이터들을 확인해보았다.\n",
    "\n",
    "대부분 구도가 비슷했지만, 이미지마다 명도나 얼굴 각도에 차이가 있었다."
   ]
  },
  {
   "cell_type": "code",
   "execution_count": null,
   "id": "97350265",
   "metadata": {},
   "outputs": [],
   "source": [
    "N = 5\n",
    "image_by_mask_status = np.zeros((3, 3, 512, 384))\n",
    "class2text = {0: 'wear', 1:'incorrect', 2:'not wear'}\n",
    "\n",
    "fig, ax = plt.subplots(N, 7, figsize=(5*3, N*3))\n",
    "path_unique = train_info['path'].unique()\n",
    "idxs = np.random.choice(len(path_unique), N)\n",
    "path_list = path_unique[idxs]\n",
    "\n",
    "for idx in range(N):\n",
    "    path = path_list[idx]\n",
    "    image_list = train_info.loc[train_info['path']==path]\n",
    "    for col in range(len(image_list)):\n",
    "        image_data = image_list.iloc[col]\n",
    "        image_class = image_data['mask_class']\n",
    "        image_path = f\"{data_dir}/{image_data['image_path']}\"\n",
    "        image = plt.imread(image_path)\n",
    "        \n",
    "        image_by_mask_status[image_class] = image_by_mask_status[image_class] \\\n",
    "                                            + image.transpose((2, 0, 1))\n",
    "        ax[idx][col].set_title(f'{class2text[image_class]}-{len(image[0])}*{len(image)}')\n",
    "        ax[idx][col].imshow(image)\n",
    "        ax[idx][col].axis('off')\n",
    "\n",
    "plt.tight_layout()"
   ]
  },
  {
   "cell_type": "markdown",
   "id": "d9ff443a",
   "metadata": {},
   "source": [
    "출력한 이미지 데이터에서 mask class에 따른 rgb값 통계를 비교해보았다."
   ]
  },
  {
   "cell_type": "code",
   "execution_count": null,
   "id": "133ac6e8",
   "metadata": {},
   "outputs": [],
   "source": [
    "image_by_mask_status[0] = image_by_mask_status[0] / 5\n",
    "image_by_mask_status = image_by_mask_status / N\n",
    "image_by_mask_status = image_by_mask_status.transpose((1,0,2,3)).reshape(3, 3, -1)"
   ]
  },
  {
   "cell_type": "markdown",
   "id": "c00b6b10",
   "metadata": {},
   "source": [
    "Red channel 데이터 비교"
   ]
  },
  {
   "cell_type": "code",
   "execution_count": null,
   "id": "6c339752",
   "metadata": {},
   "outputs": [],
   "source": [
    "r_df = pd.DataFrame(image_by_mask_status[0].transpose(), columns = ['wear', 'incorrect', 'not wear'])\n",
    "r_df.describe()"
   ]
  },
  {
   "cell_type": "markdown",
   "id": "11ea53ad",
   "metadata": {},
   "source": [
    "Green channel 데이터 비교"
   ]
  },
  {
   "cell_type": "code",
   "execution_count": null,
   "id": "1cce12d2",
   "metadata": {},
   "outputs": [],
   "source": [
    "g_df = pd.DataFrame(image_by_mask_status[1].transpose(), columns = ['wear', 'incorrect', 'not wear'])\n",
    "g_df.describe()"
   ]
  },
  {
   "cell_type": "markdown",
   "id": "b1e52bdf",
   "metadata": {},
   "source": [
    "Blue channel 데이터 비교"
   ]
  },
  {
   "cell_type": "code",
   "execution_count": null,
   "id": "00065722",
   "metadata": {
    "scrolled": false
   },
   "outputs": [],
   "source": [
    "b_df = pd.DataFrame(image_by_mask_status[2].transpose(), columns = ['wear', 'incorrect', 'not wear'])\n",
    "b_df.describe()"
   ]
  }
 ],
 "metadata": {
  "kernelspec": {
   "display_name": "Python 3 (ipykernel)",
   "language": "python",
   "name": "python3"
  },
  "language_info": {
   "codemirror_mode": {
    "name": "ipython",
    "version": 3
   },
   "file_extension": ".py",
   "mimetype": "text/x-python",
   "name": "python",
   "nbconvert_exporter": "python",
   "pygments_lexer": "ipython3",
   "version": "3.7.12"
  }
 },
 "nbformat": 4,
 "nbformat_minor": 5
}
