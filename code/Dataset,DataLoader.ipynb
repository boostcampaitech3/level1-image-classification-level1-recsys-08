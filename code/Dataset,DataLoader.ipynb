{
 "cells": [
  {
   "cell_type": "markdown",
   "id": "caac7cb0",
   "metadata": {},
   "source": [
    "## Dataset, DataLoader 구현\n",
    "data feed를 위한 Dataset, DataLoader"
   ]
  },
  {
   "cell_type": "markdown",
   "id": "e4ee9a71",
   "metadata": {},
   "source": [
    "### import"
   ]
  },
  {
   "cell_type": "code",
   "execution_count": 2,
   "id": "59d35e15",
   "metadata": {},
   "outputs": [],
   "source": [
    "import os\n",
    "import collections\n",
    "import numpy as np\n",
    "import pandas as pd\n",
    "import matplotlib as mpl\n",
    "import matplotlib.pyplot as plt\n",
    "from PIL import Image\n",
    "from tqdm import tqdm\n",
    "\n",
    "import torch\n",
    "import torchvision\n",
    "import torch.nn as nn\n",
    "import torch.optim as optim\n",
    "import torch.nn.functional as F\n",
    "from torchvision import transforms, utils\n",
    "from torch.utils.data import Dataset, DataLoader"
   ]
  },
  {
   "cell_type": "markdown",
   "id": "204a3b3d",
   "metadata": {},
   "source": [
    "### csv 기반 Dataset 구현\n",
    "EDA 과정 중 만든 new_train.csv를 이용해 간단한 dataset 구현"
   ]
  },
  {
   "cell_type": "code",
   "execution_count": 4,
   "id": "c1c038d5",
   "metadata": {},
   "outputs": [
    {
     "data": {
      "text/plain": [
       "torchvision.transforms.transforms.Compose"
      ]
     },
     "execution_count": 4,
     "metadata": {},
     "output_type": "execute_result"
    }
   ],
   "source": [
    "type(transforms.Compose([transforms.ToTensor()]))"
   ]
  },
  {
   "cell_type": "markdown",
   "id": "3be49517",
   "metadata": {},
   "source": [
    "Dataset을 상속하는 ImageDataset 정의\n",
    "\n",
    "- ImageDataset 옵션\n",
    "1. base: data 경로\n",
    "2. filename: csv 파일 이름\n",
    "3. transform: X에 대해 적용할 transform(기본값은 None)\n",
    "4. train: train 데이터 여부(기본값은 True)"
   ]
  },
  {
   "cell_type": "code",
   "execution_count": 24,
   "id": "c63d8295",
   "metadata": {},
   "outputs": [],
   "source": [
    "class ImageDataset(Dataset):\n",
    "    '''\n",
    "    csv 데이터를 통해 만들어진 Dataset Class\n",
    "    input: base(string)\n",
    "           filename(string)\n",
    "           transform(torchvision.transforms.transforms, default=None)\n",
    "           train(bool, default=True)\n",
    "    '''\n",
    "    \n",
    "    def __init__(self, base, filename, transform=None, train=True):\n",
    "        self.data = pd.read_csv(base+'/'+filename)\n",
    "        self.transform = transform\n",
    "        self.train = train\n",
    "        self.path = base\n",
    "    \n",
    "    def __len__(self):\n",
    "        return len(self.data)\n",
    "    \n",
    "    def __getitem__(self, idx):\n",
    "        X = np.array(Image.open(self.path+'/'+self.data['image_path'][idx]))\n",
    "        y = None\n",
    "        \n",
    "        if self.transform:\n",
    "            X = self.transform(X)\n",
    "        if self.train:\n",
    "            y = self.data['class'][idx]\n",
    "            \n",
    "        return X, y"
   ]
  },
  {
   "cell_type": "markdown",
   "id": "c886d110",
   "metadata": {},
   "source": [
    "구현한 ImageDataset을 가지는 DataLoader 선언\n",
    "\n",
    "- DataLoader 옵션\n",
    "1. batch_size\n",
    "2. shuffle\n",
    "3. sampler\n",
    "4. collate_fn\n",
    "5. drop_last"
   ]
  },
  {
   "cell_type": "code",
   "execution_count": 25,
   "id": "a5fdab55",
   "metadata": {},
   "outputs": [],
   "source": [
    "imageDataset = ImageDataset('./train', 'new_train.csv', transform=transforms.Compose([transforms.ToTensor()]))\n",
    "imageLoader = DataLoader(imageDataset, \n",
    "                         batch_size=4, \n",
    "                         shuffle=True, \n",
    "                         sampler=None, \n",
    "                         collate_fn=None, \n",
    "                         drop_last=False\n",
    "                        )"
   ]
  },
  {
   "cell_type": "markdown",
   "id": "91651b6a",
   "metadata": {},
   "source": [
    "DataLoader 작동해보기"
   ]
  },
  {
   "cell_type": "code",
   "execution_count": 26,
   "id": "e0f08e66",
   "metadata": {},
   "outputs": [
    {
     "data": {
      "text/plain": [
       "[tensor([[[[0.6980, 0.6980, 0.6980,  ..., 0.7529, 0.7529, 0.7529],\n",
       "           [0.6980, 0.6980, 0.6980,  ..., 0.7529, 0.7529, 0.7529],\n",
       "           [0.6980, 0.6980, 0.6980,  ..., 0.7529, 0.7529, 0.7529],\n",
       "           ...,\n",
       "           [0.4745, 0.4745, 0.4784,  ..., 0.4078, 0.3922, 0.3843],\n",
       "           [0.4706, 0.4706, 0.4745,  ..., 0.4196, 0.4118, 0.4000],\n",
       "           [0.4706, 0.4706, 0.4706,  ..., 0.4275, 0.4275, 0.4196]],\n",
       " \n",
       "          [[0.6627, 0.6627, 0.6627,  ..., 0.7137, 0.7137, 0.7137],\n",
       "           [0.6627, 0.6627, 0.6627,  ..., 0.7137, 0.7137, 0.7137],\n",
       "           [0.6627, 0.6627, 0.6627,  ..., 0.7137, 0.7137, 0.7137],\n",
       "           ...,\n",
       "           [0.4431, 0.4431, 0.4471,  ..., 0.2902, 0.2745, 0.2549],\n",
       "           [0.4392, 0.4392, 0.4431,  ..., 0.2941, 0.2784, 0.2667],\n",
       "           [0.4392, 0.4392, 0.4392,  ..., 0.2941, 0.2863, 0.2784]],\n",
       " \n",
       "          [[0.5961, 0.5961, 0.5961,  ..., 0.6667, 0.6667, 0.6667],\n",
       "           [0.5961, 0.5961, 0.5961,  ..., 0.6667, 0.6667, 0.6667],\n",
       "           [0.5961, 0.5961, 0.5961,  ..., 0.6667, 0.6667, 0.6667],\n",
       "           ...,\n",
       "           [0.3922, 0.3922, 0.3961,  ..., 0.2510, 0.2353, 0.2196],\n",
       "           [0.3882, 0.3882, 0.3922,  ..., 0.2510, 0.2392, 0.2196],\n",
       "           [0.3882, 0.3882, 0.3882,  ..., 0.2549, 0.2392, 0.2314]]],\n",
       " \n",
       " \n",
       "         [[[0.8549, 0.8549, 0.8549,  ..., 0.2824, 0.2392, 0.2549],\n",
       "           [0.8549, 0.8549, 0.8549,  ..., 0.2824, 0.2392, 0.2588],\n",
       "           [0.8549, 0.8549, 0.8549,  ..., 0.2824, 0.2471, 0.2627],\n",
       "           ...,\n",
       "           [0.6392, 0.6392, 0.6353,  ..., 0.7412, 0.7569, 0.7765],\n",
       "           [0.6392, 0.6392, 0.6353,  ..., 0.7412, 0.7569, 0.7765],\n",
       "           [0.6392, 0.6392, 0.6353,  ..., 0.7412, 0.7569, 0.7725]],\n",
       " \n",
       "          [[0.8431, 0.8431, 0.8431,  ..., 0.3529, 0.3255, 0.3490],\n",
       "           [0.8431, 0.8431, 0.8431,  ..., 0.3529, 0.3255, 0.3529],\n",
       "           [0.8431, 0.8431, 0.8431,  ..., 0.3529, 0.3333, 0.3569],\n",
       "           ...,\n",
       "           [0.1843, 0.1843, 0.1804,  ..., 0.2000, 0.2157, 0.2235],\n",
       "           [0.1843, 0.1843, 0.1804,  ..., 0.2000, 0.2157, 0.2235],\n",
       "           [0.1843, 0.1843, 0.1804,  ..., 0.2000, 0.2157, 0.2196]],\n",
       " \n",
       "          [[0.8157, 0.8157, 0.8157,  ..., 0.2980, 0.2745, 0.2980],\n",
       "           [0.8157, 0.8157, 0.8157,  ..., 0.2980, 0.2745, 0.3020],\n",
       "           [0.8157, 0.8157, 0.8157,  ..., 0.2980, 0.2824, 0.3059],\n",
       "           ...,\n",
       "           [0.1333, 0.1333, 0.1294,  ..., 0.1569, 0.1725, 0.1843],\n",
       "           [0.1333, 0.1333, 0.1294,  ..., 0.1569, 0.1725, 0.1843],\n",
       "           [0.1333, 0.1333, 0.1294,  ..., 0.1569, 0.1725, 0.1804]]],\n",
       " \n",
       " \n",
       "         [[[0.6980, 0.6980, 0.6980,  ..., 0.6745, 0.6745, 0.6745],\n",
       "           [0.6980, 0.6980, 0.6980,  ..., 0.6784, 0.6745, 0.6745],\n",
       "           [0.6980, 0.6980, 0.6980,  ..., 0.6784, 0.6784, 0.6745],\n",
       "           ...,\n",
       "           [0.6000, 0.6039, 0.6039,  ..., 0.2353, 0.2314, 0.2392],\n",
       "           [0.5922, 0.6000, 0.6039,  ..., 0.2275, 0.2314, 0.2431],\n",
       "           [0.5922, 0.6000, 0.6000,  ..., 0.2235, 0.2314, 0.2510]],\n",
       " \n",
       "          [[0.6824, 0.6824, 0.6824,  ..., 0.6588, 0.6588, 0.6588],\n",
       "           [0.6824, 0.6824, 0.6824,  ..., 0.6627, 0.6588, 0.6588],\n",
       "           [0.6824, 0.6824, 0.6824,  ..., 0.6627, 0.6627, 0.6588],\n",
       "           ...,\n",
       "           [0.6118, 0.6157, 0.6157,  ..., 0.2353, 0.2314, 0.2392],\n",
       "           [0.6157, 0.6118, 0.6157,  ..., 0.2275, 0.2314, 0.2431],\n",
       "           [0.6157, 0.6118, 0.6118,  ..., 0.2235, 0.2314, 0.2510]],\n",
       " \n",
       "          [[0.6353, 0.6353, 0.6353,  ..., 0.6157, 0.6157, 0.6157],\n",
       "           [0.6353, 0.6353, 0.6353,  ..., 0.6196, 0.6157, 0.6157],\n",
       "           [0.6353, 0.6353, 0.6353,  ..., 0.6196, 0.6196, 0.6157],\n",
       "           ...,\n",
       "           [0.5765, 0.5804, 0.5804,  ..., 0.2431, 0.2314, 0.2314],\n",
       "           [0.5765, 0.5765, 0.5804,  ..., 0.2353, 0.2314, 0.2353],\n",
       "           [0.5765, 0.5765, 0.5765,  ..., 0.2314, 0.2314, 0.2431]]],\n",
       " \n",
       " \n",
       "         [[[0.7686, 0.7725, 0.7725,  ..., 0.8000, 0.8000, 0.8000],\n",
       "           [0.7686, 0.7725, 0.7725,  ..., 0.7961, 0.8000, 0.8000],\n",
       "           [0.7725, 0.7725, 0.7765,  ..., 0.7961, 0.7961, 0.8000],\n",
       "           ...,\n",
       "           [0.6431, 0.6510, 0.6549,  ..., 0.6863, 0.6980, 0.7137],\n",
       "           [0.6118, 0.6275, 0.6392,  ..., 0.6745, 0.6902, 0.7059],\n",
       "           [0.5686, 0.5922, 0.6196,  ..., 0.6667, 0.6824, 0.6980]],\n",
       " \n",
       "          [[0.7333, 0.7373, 0.7373,  ..., 0.7804, 0.7804, 0.7804],\n",
       "           [0.7333, 0.7373, 0.7373,  ..., 0.7765, 0.7804, 0.7804],\n",
       "           [0.7373, 0.7373, 0.7412,  ..., 0.7765, 0.7765, 0.7804],\n",
       "           ...,\n",
       "           [0.5412, 0.5490, 0.5529,  ..., 0.5882, 0.6000, 0.6157],\n",
       "           [0.5098, 0.5255, 0.5373,  ..., 0.5765, 0.5922, 0.6078],\n",
       "           [0.4667, 0.4902, 0.5176,  ..., 0.5686, 0.5843, 0.6000]],\n",
       " \n",
       "          [[0.6980, 0.7020, 0.7020,  ..., 0.7647, 0.7647, 0.7647],\n",
       "           [0.6980, 0.7020, 0.7020,  ..., 0.7608, 0.7647, 0.7647],\n",
       "           [0.7020, 0.7020, 0.7059,  ..., 0.7608, 0.7608, 0.7647],\n",
       "           ...,\n",
       "           [0.3961, 0.4039, 0.4078,  ..., 0.5020, 0.5137, 0.5294],\n",
       "           [0.3647, 0.3804, 0.3922,  ..., 0.4902, 0.5059, 0.5216],\n",
       "           [0.3216, 0.3451, 0.3725,  ..., 0.4824, 0.4980, 0.5137]]]]),\n",
       " tensor([ 4, 15,  1,  9])]"
      ]
     },
     "execution_count": 26,
     "metadata": {},
     "output_type": "execute_result"
    }
   ],
   "source": [
    "next(iter(imageLoader))"
   ]
  },
  {
   "cell_type": "code",
   "execution_count": null,
   "id": "d17e6f32",
   "metadata": {},
   "outputs": [],
   "source": []
  }
 ],
 "metadata": {
  "kernelspec": {
   "display_name": "Python 3 (ipykernel)",
   "language": "python",
   "name": "python3"
  },
  "language_info": {
   "codemirror_mode": {
    "name": "ipython",
    "version": 3
   },
   "file_extension": ".py",
   "mimetype": "text/x-python",
   "name": "python",
   "nbconvert_exporter": "python",
   "pygments_lexer": "ipython3",
   "version": "3.7.12"
  }
 },
 "nbformat": 4,
 "nbformat_minor": 5
}
