{
 "cells": [
  {
   "cell_type": "markdown",
   "id": "caac7cb0",
   "metadata": {},
   "source": [
    "## Dataset, DataLoader 구현\n",
    "data feed를 위한 Dataset, DataLoader"
   ]
  },
  {
   "cell_type": "markdown",
   "id": "e4ee9a71",
   "metadata": {},
   "source": [
    "### import"
   ]
  },
  {
   "cell_type": "code",
   "execution_count": null,
   "id": "59d35e15",
   "metadata": {},
   "outputs": [],
   "source": [
    "import os\n",
    "import collections\n",
    "import numpy as np\n",
    "import pandas as pd\n",
    "import matplotlib as mpl\n",
    "import matplotlib.pyplot as plt\n",
    "from PIL import Image\n",
    "from tqdm import tqdm\n",
    "\n",
    "import torch\n",
    "import torchvision\n",
    "import torch.nn as nn\n",
    "import torch.optim as optim\n",
    "import torch.nn.functional as F\n",
    "from torchvision import transforms, utils\n",
    "from torch.utils.data import Dataset, DataLoader"
   ]
  },
  {
   "cell_type": "markdown",
   "id": "204a3b3d",
   "metadata": {},
   "source": [
    "### csv 기반 Dataset 구현\n",
    "EDA 과정 중 만든 new_train.csv를 이용해 간단한 dataset 구현"
   ]
  },
  {
   "cell_type": "code",
   "execution_count": null,
   "id": "c1c038d5",
   "metadata": {},
   "outputs": [],
   "source": [
    "type(transforms.Compose([transforms.ToTensor()]))"
   ]
  },
  {
   "cell_type": "markdown",
   "id": "3be49517",
   "metadata": {},
   "source": [
    "Dataset을 상속하는 ImageDataset 정의\n",
    "\n",
    "- ImageDataset 옵션\n",
    "1. base: data 경로\n",
    "2. filename: csv 파일 이름\n",
    "3. transform: X에 대해 적용할 transform(기본값은 None)\n",
    "4. train: train 데이터 여부(기본값은 True)"
   ]
  },
  {
   "cell_type": "code",
   "execution_count": null,
   "id": "c63d8295",
   "metadata": {},
   "outputs": [],
   "source": [
    "class ImageDataset(Dataset):\n",
    "    '''\n",
    "    csv 데이터를 통해 만들어진 Dataset Class\n",
    "    input: base(string)\n",
    "           filename(string)\n",
    "           transform(torchvision.transforms.transforms, default=None)\n",
    "           train(bool, default=True)\n",
    "    '''\n",
    "    \n",
    "    def __init__(self, base, filename, transform=None, train=True):\n",
    "        self.data = pd.read_csv(base+'/'+filename)\n",
    "        self.transform = transform\n",
    "        self.train = train\n",
    "        self.path = base\n",
    "    \n",
    "    def __len__(self):\n",
    "        return len(self.data)\n",
    "    \n",
    "    def __getitem__(self, idx):\n",
    "        X = np.array(Image.open(self.path+'/'+self.data['image_path'][idx]))\n",
    "        y = None\n",
    "        \n",
    "        if self.transform:\n",
    "            X = self.transform(X)\n",
    "        if self.train:\n",
    "            y = self.data['class'][idx]\n",
    "            \n",
    "        return X, y"
   ]
  },
  {
   "cell_type": "markdown",
   "id": "c886d110",
   "metadata": {},
   "source": [
    "구현한 ImageDataset을 가지는 DataLoader 선언\n",
    "\n",
    "- DataLoader 옵션\n",
    "1. batch_size\n",
    "2. shuffle\n",
    "3. sampler\n",
    "4. collate_fn\n",
    "5. drop_last"
   ]
  },
  {
   "cell_type": "code",
   "execution_count": null,
   "id": "a5fdab55",
   "metadata": {},
   "outputs": [],
   "source": [
    "imageDataset = ImageDataset('./train', 'new_train.csv', transform=transforms.Compose([transforms.ToTensor()]))\n",
    "imageLoader = DataLoader(imageDataset, \n",
    "                         batch_size=4, \n",
    "                         shuffle=True, \n",
    "                         sampler=None, \n",
    "                         collate_fn=None, \n",
    "                         drop_last=False\n",
    "                        )"
   ]
  },
  {
   "cell_type": "markdown",
   "id": "91651b6a",
   "metadata": {},
   "source": [
    "DataLoader 작동해보기"
   ]
  },
  {
   "cell_type": "code",
   "execution_count": null,
   "id": "e0f08e66",
   "metadata": {},
   "outputs": [],
   "source": [
    "next(iter(imageLoader))"
   ]
  },
  {
   "cell_type": "code",
   "execution_count": null,
   "id": "d17e6f32",
   "metadata": {},
   "outputs": [],
   "source": []
  }
 ],
 "metadata": {
  "kernelspec": {
   "display_name": "Python 3 (ipykernel)",
   "language": "python",
   "name": "python3"
  },
  "language_info": {
   "codemirror_mode": {
    "name": "ipython",
    "version": 3
   },
   "file_extension": ".py",
   "mimetype": "text/x-python",
   "name": "python",
   "nbconvert_exporter": "python",
   "pygments_lexer": "ipython3",
   "version": "3.7.12"
  }
 },
 "nbformat": 4,
 "nbformat_minor": 5
}
