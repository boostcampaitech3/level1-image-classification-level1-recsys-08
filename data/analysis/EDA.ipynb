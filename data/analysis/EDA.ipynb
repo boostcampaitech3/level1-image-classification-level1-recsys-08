{
 "cells": [
  {
   "cell_type": "code",
   "execution_count": 62,
   "metadata": {},
   "outputs": [],
   "source": [
    "import pandas as pd\n",
    "import os\n",
    "from matplotlib import pyplot as plt\n",
    "import seaborn as sns\n",
    "import random\n",
    "\n"
   ]
  },
  {
   "cell_type": "code",
   "execution_count": 63,
   "metadata": {},
   "outputs": [
    {
     "name": "stdout",
     "output_type": "stream",
     "text": [
      "<class 'pandas.core.frame.DataFrame'>\n",
      "RangeIndex: 2700 entries, 0 to 2699\n",
      "Data columns (total 5 columns):\n",
      " #   Column  Non-Null Count  Dtype \n",
      "---  ------  --------------  ----- \n",
      " 0   id      2700 non-null   object\n",
      " 1   gender  2700 non-null   object\n",
      " 2   race    2700 non-null   object\n",
      " 3   age     2700 non-null   int64 \n",
      " 4   path    2700 non-null   object\n",
      "dtypes: int64(1), object(4)\n",
      "memory usage: 105.6+ KB\n"
     ]
    }
   ],
   "source": [
    "df_train = pd.read_csv(\"../input/data/train/train.csv\")\n",
    "df_train.info()"
   ]
  },
  {
   "cell_type": "code",
   "execution_count": 64,
   "metadata": {},
   "outputs": [
    {
     "data": {
      "text/html": [
       "<div>\n",
       "<style scoped>\n",
       "    .dataframe tbody tr th:only-of-type {\n",
       "        vertical-align: middle;\n",
       "    }\n",
       "\n",
       "    .dataframe tbody tr th {\n",
       "        vertical-align: top;\n",
       "    }\n",
       "\n",
       "    .dataframe thead th {\n",
       "        text-align: right;\n",
       "    }\n",
       "</style>\n",
       "<table border=\"1\" class=\"dataframe\">\n",
       "  <thead>\n",
       "    <tr style=\"text-align: right;\">\n",
       "      <th></th>\n",
       "      <th>id</th>\n",
       "      <th>gender</th>\n",
       "      <th>race</th>\n",
       "      <th>age</th>\n",
       "      <th>path</th>\n",
       "    </tr>\n",
       "  </thead>\n",
       "  <tbody>\n",
       "    <tr>\n",
       "      <th>1415</th>\n",
       "      <td>003463</td>\n",
       "      <td>male</td>\n",
       "      <td>Asian</td>\n",
       "      <td>57</td>\n",
       "      <td>003463_male_Asian_57</td>\n",
       "    </tr>\n",
       "    <tr>\n",
       "      <th>1439</th>\n",
       "      <td>003507</td>\n",
       "      <td>male</td>\n",
       "      <td>Asian</td>\n",
       "      <td>57</td>\n",
       "      <td>003507_male_Asian_57</td>\n",
       "    </tr>\n",
       "    <tr>\n",
       "      <th>1852</th>\n",
       "      <td>004333</td>\n",
       "      <td>male</td>\n",
       "      <td>Asian</td>\n",
       "      <td>57</td>\n",
       "      <td>004333_male_Asian_57</td>\n",
       "    </tr>\n",
       "    <tr>\n",
       "      <th>1636</th>\n",
       "      <td>003805</td>\n",
       "      <td>male</td>\n",
       "      <td>Asian</td>\n",
       "      <td>56</td>\n",
       "      <td>003805_male_Asian_56</td>\n",
       "    </tr>\n",
       "    <tr>\n",
       "      <th>2320</th>\n",
       "      <td>006162</td>\n",
       "      <td>male</td>\n",
       "      <td>Asian</td>\n",
       "      <td>20</td>\n",
       "      <td>006162_male_Asian_20</td>\n",
       "    </tr>\n",
       "  </tbody>\n",
       "</table>\n",
       "</div>"
      ],
      "text/plain": [
       "          id gender   race  age                  path\n",
       "1415  003463   male  Asian   57  003463_male_Asian_57\n",
       "1439  003507   male  Asian   57  003507_male_Asian_57\n",
       "1852  004333   male  Asian   57  004333_male_Asian_57\n",
       "1636  003805   male  Asian   56  003805_male_Asian_56\n",
       "2320  006162   male  Asian   20  006162_male_Asian_20"
      ]
     },
     "execution_count": 64,
     "metadata": {},
     "output_type": "execute_result"
    }
   ],
   "source": [
    "df_train.sample(5)"
   ]
  },
  {
   "cell_type": "code",
   "execution_count": 65,
   "metadata": {},
   "outputs": [
    {
     "data": {
      "text/html": [
       "<div>\n",
       "<style scoped>\n",
       "    .dataframe tbody tr th:only-of-type {\n",
       "        vertical-align: middle;\n",
       "    }\n",
       "\n",
       "    .dataframe tbody tr th {\n",
       "        vertical-align: top;\n",
       "    }\n",
       "\n",
       "    .dataframe thead th {\n",
       "        text-align: right;\n",
       "    }\n",
       "</style>\n",
       "<table border=\"1\" class=\"dataframe\">\n",
       "  <thead>\n",
       "    <tr style=\"text-align: right;\">\n",
       "      <th></th>\n",
       "      <th>count</th>\n",
       "      <th>mean</th>\n",
       "      <th>std</th>\n",
       "      <th>min</th>\n",
       "      <th>25%</th>\n",
       "      <th>50%</th>\n",
       "      <th>75%</th>\n",
       "      <th>max</th>\n",
       "    </tr>\n",
       "  </thead>\n",
       "  <tbody>\n",
       "    <tr>\n",
       "      <th>age</th>\n",
       "      <td>2700.0</td>\n",
       "      <td>37.708148</td>\n",
       "      <td>16.985904</td>\n",
       "      <td>18.0</td>\n",
       "      <td>20.0</td>\n",
       "      <td>36.0</td>\n",
       "      <td>55.0</td>\n",
       "      <td>60.0</td>\n",
       "    </tr>\n",
       "  </tbody>\n",
       "</table>\n",
       "</div>"
      ],
      "text/plain": [
       "      count       mean        std   min   25%   50%   75%   max\n",
       "age  2700.0  37.708148  16.985904  18.0  20.0  36.0  55.0  60.0"
      ]
     },
     "execution_count": 65,
     "metadata": {},
     "output_type": "execute_result"
    }
   ],
   "source": [
    "df_train.describe().T"
   ]
  },
  {
   "cell_type": "markdown",
   "metadata": {},
   "source": [
    "- 결측치 확인 -> 없음"
   ]
  },
  {
   "cell_type": "code",
   "execution_count": 66,
   "metadata": {},
   "outputs": [
    {
     "data": {
      "text/plain": [
       "id        0\n",
       "gender    0\n",
       "race      0\n",
       "age       0\n",
       "path      0\n",
       "dtype: int64"
      ]
     },
     "execution_count": 66,
     "metadata": {},
     "output_type": "execute_result"
    }
   ],
   "source": [
    "df_train.isnull().sum()"
   ]
  },
  {
   "cell_type": "code",
   "execution_count": 67,
   "metadata": {},
   "outputs": [
    {
     "data": {
      "text/plain": [
       "<AxesSubplot:>"
      ]
     },
     "execution_count": 67,
     "metadata": {},
     "output_type": "execute_result"
    },
    {
     "data": {
      "image/png": "[encoded data removed]",
      "text/plain": [
       "<Figure size 432x288 with 1 Axes>"
      ]
     },
     "metadata": {
      "needs_background": "light"
     },
     "output_type": "display_data"
    }
   ],
   "source": [
    "df_train.boxplot()"
   ]
  },
  {
   "cell_type": "code",
   "execution_count": 68,
   "metadata": {},
   "outputs": [
    {
     "data": {
      "text/plain": [
       "array(['Asian'], dtype=object)"
      ]
     },
     "execution_count": 68,
     "metadata": {},
     "output_type": "execute_result"
    }
   ],
   "source": [
    "# 인종은 Asian만 있어 불필요한 컬럼\n",
    "df_train['race'].unique()"
   ]
  },
  {
   "cell_type": "markdown",
   "metadata": {},
   "source": [
    "- 성별은 약 4:6의 불균형이 있다."
   ]
  },
  {
   "cell_type": "code",
   "execution_count": 86,
   "metadata": {},
   "outputs": [
    {
     "name": "stdout",
     "output_type": "stream",
     "text": [
      "female    1658\n",
      "male      1042\n",
      "Name: gender, dtype: int64\n"
     ]
    },
    {
     "data": {
      "image/png": "[encoded data removed]",
      "text/plain": [
       "<Figure size 504x504 with 1 Axes>"
      ]
     },
     "metadata": {},
     "output_type": "display_data"
    }
   ],
   "source": [
    "gender_cnt = df_train['gender'].value_counts()\n",
    "print(gender_cnt)\n",
    "\n",
    "fig, ax = plt.subplots(1, 1, figsize=(7, 7))\n",
    "ax.pie(gender_cnt, \n",
    "       labels=['female', 'male'], \n",
    "       autopct='%1.1f%%',\n",
    "       colors=['#FF6692', '#B6E880'])\n",
    "plt.show()"
   ]
  },
  {
   "cell_type": "code",
   "execution_count": 70,
   "metadata": {},
   "outputs": [
    {
     "data": {
      "text/plain": [
       "['incorrect_mask.jpg',\n",
       " 'mask1.jpg',\n",
       " 'mask2.jpg',\n",
       " 'mask3.jpg',\n",
       " 'mask4.jpg',\n",
       " 'mask5.jpg',\n",
       " 'normal.jpg']"
      ]
     },
     "execution_count": 70,
     "metadata": {},
     "output_type": "execute_result"
    }
   ],
   "source": [
    "# 인당 마스크를 쓴 이미지 5개, 쓰지 않은 이미지 1개, 제대로 착용하지 않은 이미지 1개씩이 있다.\n",
    "# os에 따라 불필요한 파일이 있다면 삭제\n",
    "img_path = '../input/data/train/images'\n",
    "tmp = os.listdir(img_path + '/' + df_train[\"path\"][0])\n",
    "tmp"
   ]
  },
  {
   "cell_type": "code",
   "execution_count": 71,
   "metadata": {},
   "outputs": [],
   "source": [
    "# '._'으로 시작하는 불필요한 파일 삭제\n",
    "# mac -> window로 파일을 옮기면 생기는 메타데이터로 지워도 무방하다고 한다.\n",
    "rm = False; os_window = True\n",
    "if rm:\n",
    "    for (path, dir, files) in os.walk(img_path):\n",
    "        for filename in files:\n",
    "            ext = os.path.splitext(filename)[0]\n",
    "            if os_window:\n",
    "                if ext.startswith('._'):\n",
    "                    # print(os.path.join(path, filename))\n",
    "                    os.remove(os.path.join(path, filename))\n",
    "            else:\n",
    "                if not ext.startswith('._'):\n",
    "                    # print(os.path.join(path, filename))\n",
    "                    os.remove(os.path.join(path, filename))"
   ]
  },
  {
   "cell_type": "markdown",
   "metadata": {},
   "source": [
    "- 렌덤으로 출력해보기"
   ]
  },
  {
   "cell_type": "code",
   "execution_count": 72,
   "metadata": {},
   "outputs": [],
   "source": [
    "# c = 7로 고정\n",
    "r, c = 3, 7\n",
    "fig, axes = plt.subplots(r, c, figsize = (15,3*r))\n",
    "\n",
    "for i in range(r):\n",
    "    n = random.randint(0,len(df_train))\n",
    "    for j in range(c):\n",
    "        axes[i][j].set_title(tmp[j])\n",
    "        tmp = os.listdir(img_path + '/' + df_train[\"path\"][n])\n",
    "        img = plt.imread(img_path + '/' + df_train[\"path\"][n]+ '/'+tmp[j])\n",
    "        axes[i][j].imshow(img)\n",
    "        axes[i][j].set_xticks([]); axes[i][j].set_yticks([])\n",
    "\n",
    "plt.show()"
   ]
  },
  {
   "cell_type": "markdown",
   "metadata": {},
   "source": [
    "# 이미지를 직접 살펴본 결과\n",
    "1. incorrect의 기준은 입과 코를 모두 잘 덮었는가 여부이다.\n",
    "2. 배경은 단색, 야외, 글씨가 있는 배경 등 다양하다. (배경이 영향이 있을까?)\n",
    "3. 1개의 마스크 종류를 사용한 사람도 있고, 여러 개 사용한 사람도 있다.\n",
    "4. 구도는 거의 유사하지만 미세하게 다른 경우도 존재한다.\n",
    "5. 같은 사람의 사진이라도 밝기 정도가 경우가 존재한다."
   ]
  },
  {
   "cell_type": "code",
   "execution_count": 73,
   "metadata": {},
   "outputs": [
    {
     "data": {
      "text/plain": [
       "id                        000001\n",
       "gender                    female\n",
       "race                       Asian\n",
       "age                           45\n",
       "path      000001_female_Asian_45\n",
       "Name: 0, dtype: object"
      ]
     },
     "execution_count": 73,
     "metadata": {},
     "output_type": "execute_result"
    }
   ],
   "source": [
    "df_train.iloc[0]"
   ]
  },
  {
   "cell_type": "code",
   "execution_count": 74,
   "metadata": {},
   "outputs": [],
   "source": [
    "# 조정한 df_train_adj 생성\n",
    "# id, age: 그대로 / race: 삭제\n",
    "# gender: (M,F) = (0,1)\n",
    "# path: 이미지별 path로 통합\n",
    "# mask: (incorrect, correct, normal) = (0,1,2)\n",
    "# extention: 확장자\n",
    "img_path = '../input/data/train/images'\n",
    "id = []\n",
    "gender = []\n",
    "age = []\n",
    "path = []\n",
    "mask = []\n",
    "extension = []\n",
    "\n",
    "for i in range(len(df_train)):\n",
    "    tmp = df_train.iloc[i]\n",
    "    id_ = tmp['id']\n",
    "    gender_ = int(tmp['gender']=='female')\n",
    "    age_ = tmp['age']\n",
    "    path1 =  tmp[\"path\"]\n",
    "    for j, path2 in enumerate(os.listdir(img_path + '/' + path1)):\n",
    "        name, ext = path2.split('.')\n",
    "        for k, x in enumerate(['incorrect','mask','normal']):\n",
    "            if name.startswith(x):\n",
    "                mask.append(k)\n",
    "        extension.append(ext)\n",
    "        path.append(path1 + '/' + path2)\n",
    "        id.append(id_)\n",
    "        gender.append(gender_)\n",
    "        age.append(age_)\n",
    "\n"
   ]
  },
  {
   "cell_type": "code",
   "execution_count": 75,
   "metadata": {},
   "outputs": [],
   "source": [
    "df_train_adj = pd.DataFrame(data = zip(id,path,extension,age,mask,gender), columns = ['id','path','extension','age','mask','gender'])"
   ]
  },
  {
   "cell_type": "code",
   "execution_count": 76,
   "metadata": {},
   "outputs": [
    {
     "data": {
      "text/html": [
       "<div>\n",
       "<style scoped>\n",
       "    .dataframe tbody tr th:only-of-type {\n",
       "        vertical-align: middle;\n",
       "    }\n",
       "\n",
       "    .dataframe tbody tr th {\n",
       "        vertical-align: top;\n",
       "    }\n",
       "\n",
       "    .dataframe thead th {\n",
       "        text-align: right;\n",
       "    }\n",
       "</style>\n",
       "<table border=\"1\" class=\"dataframe\">\n",
       "  <thead>\n",
       "    <tr style=\"text-align: right;\">\n",
       "      <th></th>\n",
       "      <th>id</th>\n",
       "      <th>path</th>\n",
       "      <th>extension</th>\n",
       "      <th>age</th>\n",
       "      <th>mask</th>\n",
       "      <th>gender</th>\n",
       "    </tr>\n",
       "  </thead>\n",
       "  <tbody>\n",
       "    <tr>\n",
       "      <th>18585</th>\n",
       "      <td>006728</td>\n",
       "      <td>006728_male_Asian_19/incorrect_mask.jpg</td>\n",
       "      <td>jpg</td>\n",
       "      <td>19</td>\n",
       "      <td>0</td>\n",
       "      <td>0</td>\n",
       "    </tr>\n",
       "    <tr>\n",
       "      <th>2556</th>\n",
       "      <td>000817</td>\n",
       "      <td>000817_female_Asian_52/mask1.jpg</td>\n",
       "      <td>jpg</td>\n",
       "      <td>52</td>\n",
       "      <td>1</td>\n",
       "      <td>1</td>\n",
       "    </tr>\n",
       "    <tr>\n",
       "      <th>746</th>\n",
       "      <td>000280</td>\n",
       "      <td>000280_female_Asian_54/mask4.jpg</td>\n",
       "      <td>jpg</td>\n",
       "      <td>54</td>\n",
       "      <td>1</td>\n",
       "      <td>1</td>\n",
       "    </tr>\n",
       "    <tr>\n",
       "      <th>1686</th>\n",
       "      <td>000642</td>\n",
       "      <td>000642_female_Asian_54/normal.jpg</td>\n",
       "      <td>jpg</td>\n",
       "      <td>54</td>\n",
       "      <td>2</td>\n",
       "      <td>1</td>\n",
       "    </tr>\n",
       "    <tr>\n",
       "      <th>16038</th>\n",
       "      <td>006106</td>\n",
       "      <td>006106_male_Asian_19/mask1.jpg</td>\n",
       "      <td>jpg</td>\n",
       "      <td>19</td>\n",
       "      <td>1</td>\n",
       "      <td>0</td>\n",
       "    </tr>\n",
       "    <tr>\n",
       "      <th>9545</th>\n",
       "      <td>003392</td>\n",
       "      <td>003392_female_Asian_19/mask4.jpg</td>\n",
       "      <td>jpg</td>\n",
       "      <td>19</td>\n",
       "      <td>1</td>\n",
       "      <td>1</td>\n",
       "    </tr>\n",
       "    <tr>\n",
       "      <th>6531</th>\n",
       "      <td>001720</td>\n",
       "      <td>001720_female_Asian_18/incorrect_mask.jpg</td>\n",
       "      <td>jpg</td>\n",
       "      <td>18</td>\n",
       "      <td>0</td>\n",
       "      <td>1</td>\n",
       "    </tr>\n",
       "    <tr>\n",
       "      <th>883</th>\n",
       "      <td>000334</td>\n",
       "      <td>000334_female_Asian_52/mask1.jpg</td>\n",
       "      <td>jpg</td>\n",
       "      <td>52</td>\n",
       "      <td>1</td>\n",
       "      <td>1</td>\n",
       "    </tr>\n",
       "    <tr>\n",
       "      <th>5944</th>\n",
       "      <td>001594</td>\n",
       "      <td>001594_male_Asian_58/mask1.jpg</td>\n",
       "      <td>jpg</td>\n",
       "      <td>58</td>\n",
       "      <td>1</td>\n",
       "      <td>0</td>\n",
       "    </tr>\n",
       "    <tr>\n",
       "      <th>12928</th>\n",
       "      <td>004324</td>\n",
       "      <td>004324_female_Asian_60/normal.jpg</td>\n",
       "      <td>jpg</td>\n",
       "      <td>60</td>\n",
       "      <td>2</td>\n",
       "      <td>1</td>\n",
       "    </tr>\n",
       "  </tbody>\n",
       "</table>\n",
       "</div>"
      ],
      "text/plain": [
       "           id                                       path extension  age  mask  \\\n",
       "18585  006728    006728_male_Asian_19/incorrect_mask.jpg       jpg   19     0   \n",
       "2556   000817           000817_female_Asian_52/mask1.jpg       jpg   52     1   \n",
       "746    000280           000280_female_Asian_54/mask4.jpg       jpg   54     1   \n",
       "1686   000642          000642_female_Asian_54/normal.jpg       jpg   54     2   \n",
       "16038  006106             006106_male_Asian_19/mask1.jpg       jpg   19     1   \n",
       "9545   003392           003392_female_Asian_19/mask4.jpg       jpg   19     1   \n",
       "6531   001720  001720_female_Asian_18/incorrect_mask.jpg       jpg   18     0   \n",
       "883    000334           000334_female_Asian_52/mask1.jpg       jpg   52     1   \n",
       "5944   001594             001594_male_Asian_58/mask1.jpg       jpg   58     1   \n",
       "12928  004324          004324_female_Asian_60/normal.jpg       jpg   60     2   \n",
       "\n",
       "       gender  \n",
       "18585       0  \n",
       "2556        1  \n",
       "746         1  \n",
       "1686        1  \n",
       "16038       0  \n",
       "9545        1  \n",
       "6531        1  \n",
       "883         1  \n",
       "5944        0  \n",
       "12928       1  "
      ]
     },
     "execution_count": 76,
     "metadata": {},
     "output_type": "execute_result"
    }
   ],
   "source": [
    "df_train_adj.sample(10)"
   ]
  },
  {
   "cell_type": "code",
   "execution_count": 77,
   "metadata": {},
   "outputs": [
    {
     "data": {
      "text/html": [
       "<div>\n",
       "<style scoped>\n",
       "    .dataframe tbody tr th:only-of-type {\n",
       "        vertical-align: middle;\n",
       "    }\n",
       "\n",
       "    .dataframe tbody tr th {\n",
       "        vertical-align: top;\n",
       "    }\n",
       "\n",
       "    .dataframe thead th {\n",
       "        text-align: right;\n",
       "    }\n",
       "</style>\n",
       "<table border=\"1\" class=\"dataframe\">\n",
       "  <thead>\n",
       "    <tr style=\"text-align: right;\">\n",
       "      <th></th>\n",
       "      <th>id</th>\n",
       "      <th>path</th>\n",
       "      <th>extension</th>\n",
       "      <th>age</th>\n",
       "      <th>mask</th>\n",
       "      <th>gender</th>\n",
       "    </tr>\n",
       "  </thead>\n",
       "  <tbody>\n",
       "    <tr>\n",
       "      <th>9562</th>\n",
       "      <td>003397</td>\n",
       "      <td>003397_female_Asian_20/incorrect_mask.jpg</td>\n",
       "      <td>jpg</td>\n",
       "      <td>20</td>\n",
       "      <td>0</td>\n",
       "      <td>1</td>\n",
       "    </tr>\n",
       "    <tr>\n",
       "      <th>9563</th>\n",
       "      <td>003397</td>\n",
       "      <td>003397_female_Asian_20/mask1.jpg</td>\n",
       "      <td>jpg</td>\n",
       "      <td>20</td>\n",
       "      <td>1</td>\n",
       "      <td>1</td>\n",
       "    </tr>\n",
       "    <tr>\n",
       "      <th>9564</th>\n",
       "      <td>003397</td>\n",
       "      <td>003397_female_Asian_20/mask2.jpg</td>\n",
       "      <td>jpg</td>\n",
       "      <td>20</td>\n",
       "      <td>1</td>\n",
       "      <td>1</td>\n",
       "    </tr>\n",
       "    <tr>\n",
       "      <th>9565</th>\n",
       "      <td>003397</td>\n",
       "      <td>003397_female_Asian_20/mask3.jpg</td>\n",
       "      <td>jpg</td>\n",
       "      <td>20</td>\n",
       "      <td>1</td>\n",
       "      <td>1</td>\n",
       "    </tr>\n",
       "    <tr>\n",
       "      <th>9566</th>\n",
       "      <td>003397</td>\n",
       "      <td>003397_female_Asian_20/mask4.jpg</td>\n",
       "      <td>jpg</td>\n",
       "      <td>20</td>\n",
       "      <td>1</td>\n",
       "      <td>1</td>\n",
       "    </tr>\n",
       "    <tr>\n",
       "      <th>9567</th>\n",
       "      <td>003397</td>\n",
       "      <td>003397_female_Asian_20/mask5.jpg</td>\n",
       "      <td>jpg</td>\n",
       "      <td>20</td>\n",
       "      <td>1</td>\n",
       "      <td>1</td>\n",
       "    </tr>\n",
       "    <tr>\n",
       "      <th>9568</th>\n",
       "      <td>003397</td>\n",
       "      <td>003397_female_Asian_20/normal.jpg</td>\n",
       "      <td>jpg</td>\n",
       "      <td>20</td>\n",
       "      <td>2</td>\n",
       "      <td>1</td>\n",
       "    </tr>\n",
       "    <tr>\n",
       "      <th>9569</th>\n",
       "      <td>003397</td>\n",
       "      <td>003397_female_Asian_19/incorrect_mask.jpg</td>\n",
       "      <td>jpg</td>\n",
       "      <td>19</td>\n",
       "      <td>0</td>\n",
       "      <td>1</td>\n",
       "    </tr>\n",
       "    <tr>\n",
       "      <th>9570</th>\n",
       "      <td>003397</td>\n",
       "      <td>003397_female_Asian_19/mask1.jpg</td>\n",
       "      <td>jpg</td>\n",
       "      <td>19</td>\n",
       "      <td>1</td>\n",
       "      <td>1</td>\n",
       "    </tr>\n",
       "    <tr>\n",
       "      <th>9571</th>\n",
       "      <td>003397</td>\n",
       "      <td>003397_female_Asian_19/mask2.jpg</td>\n",
       "      <td>jpg</td>\n",
       "      <td>19</td>\n",
       "      <td>1</td>\n",
       "      <td>1</td>\n",
       "    </tr>\n",
       "    <tr>\n",
       "      <th>9572</th>\n",
       "      <td>003397</td>\n",
       "      <td>003397_female_Asian_19/mask3.jpg</td>\n",
       "      <td>jpg</td>\n",
       "      <td>19</td>\n",
       "      <td>1</td>\n",
       "      <td>1</td>\n",
       "    </tr>\n",
       "    <tr>\n",
       "      <th>9573</th>\n",
       "      <td>003397</td>\n",
       "      <td>003397_female_Asian_19/mask4.jpg</td>\n",
       "      <td>jpg</td>\n",
       "      <td>19</td>\n",
       "      <td>1</td>\n",
       "      <td>1</td>\n",
       "    </tr>\n",
       "    <tr>\n",
       "      <th>9574</th>\n",
       "      <td>003397</td>\n",
       "      <td>003397_female_Asian_19/mask5.jpg</td>\n",
       "      <td>jpg</td>\n",
       "      <td>19</td>\n",
       "      <td>1</td>\n",
       "      <td>1</td>\n",
       "    </tr>\n",
       "    <tr>\n",
       "      <th>9575</th>\n",
       "      <td>003397</td>\n",
       "      <td>003397_female_Asian_19/normal.jpg</td>\n",
       "      <td>jpg</td>\n",
       "      <td>19</td>\n",
       "      <td>2</td>\n",
       "      <td>1</td>\n",
       "    </tr>\n",
       "  </tbody>\n",
       "</table>\n",
       "</div>"
      ],
      "text/plain": [
       "          id                                       path extension  age  mask  \\\n",
       "9562  003397  003397_female_Asian_20/incorrect_mask.jpg       jpg   20     0   \n",
       "9563  003397           003397_female_Asian_20/mask1.jpg       jpg   20     1   \n",
       "9564  003397           003397_female_Asian_20/mask2.jpg       jpg   20     1   \n",
       "9565  003397           003397_female_Asian_20/mask3.jpg       jpg   20     1   \n",
       "9566  003397           003397_female_Asian_20/mask4.jpg       jpg   20     1   \n",
       "9567  003397           003397_female_Asian_20/mask5.jpg       jpg   20     1   \n",
       "9568  003397          003397_female_Asian_20/normal.jpg       jpg   20     2   \n",
       "9569  003397  003397_female_Asian_19/incorrect_mask.jpg       jpg   19     0   \n",
       "9570  003397           003397_female_Asian_19/mask1.jpg       jpg   19     1   \n",
       "9571  003397           003397_female_Asian_19/mask2.jpg       jpg   19     1   \n",
       "9572  003397           003397_female_Asian_19/mask3.jpg       jpg   19     1   \n",
       "9573  003397           003397_female_Asian_19/mask4.jpg       jpg   19     1   \n",
       "9574  003397           003397_female_Asian_19/mask5.jpg       jpg   19     1   \n",
       "9575  003397          003397_female_Asian_19/normal.jpg       jpg   19     2   \n",
       "\n",
       "      gender  \n",
       "9562       1  \n",
       "9563       1  \n",
       "9564       1  \n",
       "9565       1  \n",
       "9566       1  \n",
       "9567       1  \n",
       "9568       1  \n",
       "9569       1  \n",
       "9570       1  \n",
       "9571       1  \n",
       "9572       1  \n",
       "9573       1  \n",
       "9574       1  \n",
       "9575       1  "
      ]
     },
     "execution_count": 77,
     "metadata": {},
     "output_type": "execute_result"
    }
   ],
   "source": [
    "# id가 겹치는 오류가 하나 있다.\n",
    "df_train_adj[df_train_adj['id']=='003397']"
   ]
  },
  {
   "cell_type": "code",
   "execution_count": 78,
   "metadata": {},
   "outputs": [
    {
     "data": {
      "text/plain": [
       "1    13500\n",
       "0     2700\n",
       "2     2700\n",
       "Name: mask, dtype: int64"
      ]
     },
     "execution_count": 78,
     "metadata": {},
     "output_type": "execute_result"
    }
   ],
   "source": [
    "df_train_adj['mask'].value_counts()"
   ]
  },
  {
   "cell_type": "code",
   "execution_count": 79,
   "metadata": {},
   "outputs": [
    {
     "data": {
      "text/plain": [
       "jpg     18035\n",
       "png       511\n",
       "jpeg      354\n",
       "Name: extension, dtype: int64"
      ]
     },
     "execution_count": 79,
     "metadata": {},
     "output_type": "execute_result"
    }
   ],
   "source": [
    "# 확장자가 (동일인에 대해서도) 일정하지 않은 경우가 존재한다.\n",
    "df_train_adj['extension'].value_counts()"
   ]
  },
  {
   "cell_type": "code",
   "execution_count": 80,
   "metadata": {},
   "outputs": [],
   "source": [
    "# age 카테고리화\n",
    "# (30세 미만, 30세 이상 60세 미만, 60세 이상) = (0,1,2)\n",
    "df_train_adj['age_class'] = pd.cut(df_train_adj['age'], bins = [0,30,60,1000], right=False, labels = [0,1,2])"
   ]
  },
  {
   "cell_type": "markdown",
   "metadata": {},
   "source": [
    "- 60세의 데이터가 많이 부족하다."
   ]
  },
  {
   "cell_type": "code",
   "execution_count": 82,
   "metadata": {},
   "outputs": [
    {
     "name": "stdout",
     "output_type": "stream",
     "text": [
      "0    8967\n",
      "1    8589\n",
      "2    1344\n",
      "Name: age_class, dtype: int64\n"
     ]
    },
    {
     "data": {
      "image/png": "[encoded data removed]",
      "text/plain": [
       "<Figure size 504x504 with 1 Axes>"
      ]
     },
     "metadata": {},
     "output_type": "display_data"
    }
   ],
   "source": [
    "age_cnt = df_train_adj['age_class'].value_counts()\n",
    "print(age_cnt)\n",
    "\n",
    "fig, ax = plt.subplots(1, 1, figsize=(7, 7))\n",
    "ax.pie(age_cnt, \n",
    "       labels=['0-29', '30-59', '60-'], \n",
    "       autopct='%1.1f%%',\n",
    "       colors=['#FF6692', '#B6E880', '#FF97FF'])\n",
    "plt.show()"
   ]
  },
  {
   "cell_type": "markdown",
   "metadata": {},
   "source": [
    "- 20세 내외와 50, 60대에 대부분의 분포가 몰려있음을 확인할 수 있었다."
   ]
  },
  {
   "cell_type": "code",
   "execution_count": 83,
   "metadata": {},
   "outputs": [
    {
     "data": {
      "text/plain": [
       "<AxesSubplot:xlabel='age', ylabel='count'>"
      ]
     },
     "execution_count": 83,
     "metadata": {},
     "output_type": "execute_result"
    },
    {
     "data": {
      "image/png": "[encoded data removed]",
      "text/plain": [
       "<Figure size 864x360 with 1 Axes>"
      ]
     },
     "metadata": {
      "needs_background": "light"
     },
     "output_type": "display_data"
    }
   ],
   "source": [
    "plt.figure(figsize = (12,5))\n",
    "sns.countplot(x = pd.cut(df_train_adj['age'], bins = [10,20,30,40,50,60,1000], right=False, \n",
    "labels = ['10<=x<20','20<=x<30','30<=x<40','40<=x<50','50<=x<60','60']))"
   ]
  },
  {
   "cell_type": "code",
   "execution_count": 84,
   "metadata": {},
   "outputs": [
    {
     "data": {
      "text/plain": [
       "<matplotlib.lines.Line2D at 0x1edc38e01f0>"
      ]
     },
     "execution_count": 84,
     "metadata": {},
     "output_type": "execute_result"
    },
    {
     "data": {
      "image/png": "[encoded data removed]",
      "text/plain": [
       "<Figure size 1296x360 with 2 Axes>"
      ]
     },
     "metadata": {
      "needs_background": "light"
     },
     "output_type": "display_data"
    }
   ],
   "source": [
    "fig, axes = plt.subplots(1, 2, figsize=(18,5))\n",
    "\n",
    "plot1 = sns.violinplot(data=df_train_adj, x='age', ax=axes[0], bw=0.1, inner='quartile')\n",
    "plot2 = sns.kdeplot(data=df_train_adj, x='age', fill=True, alpha=0.8, ax=axes[1], bw_method=0.05)\n",
    "\n",
    "axes[0].axvline(30, linestyle='--')\n",
    "axes[0].axvline(60, linestyle='--')\n",
    "\n",
    "axes[1].axvline(30, linestyle='--')\n",
    "axes[1].axvline(60, linestyle='--')"
   ]
  },
  {
   "cell_type": "markdown",
   "metadata": {},
   "source": [
    "# 정답 레이블\n",
    "![image](https://user-images.githubusercontent.com/85151359/154933965-46470529-1a76-44e3-aeeb-e77e35728d88.png)"
   ]
  },
  {
   "cell_type": "code",
   "execution_count": 85,
   "metadata": {},
   "outputs": [],
   "source": [
    "# 정답 레이블(ans) 생성용 dict\n",
    "dic_ans = dict()\n",
    "keys = [(i,j,k) for i in [1,0,2] for j in range(2) for k in range(3)]\n",
    "labels = range(18)\n",
    "for x,y in zip(keys,labels):\n",
    "    dic_ans[x]=y"
   ]
  },
  {
   "cell_type": "code",
   "execution_count": 60,
   "metadata": {},
   "outputs": [],
   "source": [
    "# 정답 레이블 컬럼 추가\n",
    "df_train_adj['ans'] = [dic_ans[tuple(df_train_adj[['mask','gender','age_class']].iloc[i])] for i in range(len(df_train_adj))]"
   ]
  },
  {
   "cell_type": "markdown",
   "metadata": {},
   "source": [
    "- 정답 레이블의 비율을 살펴보면, 아래처럼 나이대와 마스크 착용 여부에 따른 불균형이 심하다."
   ]
  },
  {
   "cell_type": "code",
   "execution_count": 61,
   "metadata": {},
   "outputs": [
    {
     "data": {
      "image/png": "[encoded data removed]",
      "text/plain": [
       "<Figure size 1080x576 with 1 Axes>"
      ]
     },
     "metadata": {
      "needs_background": "light"
     },
     "output_type": "display_data"
    }
   ],
   "source": [
    "fig, ax = plt.subplots(1,1, figsize=(15,8))\n",
    "ax = sns.countplot(x=df_train_adj[\"ans\"], ax=ax)\n",
    "for patch in ax.patches:\n",
    "    ax.annotate(f'{patch.get_height()}', xy=(patch.get_x() + patch.get_width() / 2, patch.get_height()), ha='center')\n",
    "    if patch.get_height() > 200:\n",
    "        ax.annotate(f'{patch.get_height() / len(df_train_adj) * 100:.2f}%', xy=(patch.get_x() + patch.get_width() / 2, patch.get_height() - 100), color='white', va='top', ha='center')"
   ]
  },
  {
   "cell_type": "markdown",
   "metadata": {},
   "source": [
    "## 결론\n",
    "\n",
    "#### 분류 모델의 성능을 높이려면 아래 문제를 해결해야 할 것으로 보입니다.\n",
    "\n",
    "1. 데이터의 불균형\n",
    "   - 나이대, 성별, 마스크 착용 상태 관점에서 모두 데이터가 한쪽으로 편향되어 있다.\n",
    "   - 이를 해결하려면 over sampling이 요구되는데, 그러면 데이터를 어떻게 확보할 수 있을까?\n",
    "   - Data Augmentation으로 마스크를 제대로 착용하지 않거나 미착용한 상태의 이미지를 늘리는 방법이 있어 보인다.\n",
    "2. 데이터 부족\n",
    "    - 학습 데이터가 약 1만 개인데 반해, 18개의 레이블로 데이터를 분류해야 하는 건 쉽지 않아 보인다.\n",
    "    - 마찬가지로 Data Augmentation으로 이를 보완할 수 있을 것 같다.\n",
    "3. 모델 제작 방법\n",
    "    - 18개의 레이블로 데이터를 분류하는 모델 한 개를 만들어야 할까?\n",
    "    - 아니면 나이대, 성별, 마스크 착용 상태를 각각 분류하는 모델 세 개를 따로 만들어야 할까?"
   ]
  },
  {
   "cell_type": "markdown",
   "metadata": {},
   "source": []
  }
 ],
 "metadata": {
  "interpreter": {
   "hash": "14e39fca190f862e65d6dc57f8ae1da78b3f38e5b7115ed05bf6e9015f346c19"
  },
  "kernelspec": {
   "display_name": "Python 3.8.0 ('boostcamp')",
   "language": "python",
   "name": "python3"
  },
  "language_info": {
   "codemirror_mode": {
    "name": "ipython",
    "version": 3
   },
   "file_extension": ".py",
   "mimetype": "text/x-python",
   "name": "python",
   "nbconvert_exporter": "python",
   "pygments_lexer": "ipython3",
   "version": "3.8.0"
  },
  "orig_nbformat": 4
 },
 "nbformat": 4,
 "nbformat_minor": 2
}
